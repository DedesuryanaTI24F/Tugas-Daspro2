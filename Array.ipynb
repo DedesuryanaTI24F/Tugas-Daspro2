{
 "cells": [
  {
   "cell_type": "code",
   "execution_count": 3,
   "id": "f70cb5a8-48b9-4723-b377-575cf0d2a182",
   "metadata": {},
   "outputs": [],
   "source": [
    "import numpy as np"
   ]
  },
  {
   "cell_type": "code",
   "execution_count": 4,
   "id": "6b55b01c-45b7-4d0d-84bc-c912d1cdfa13",
   "metadata": {},
   "outputs": [],
   "source": [
    "# Membuat array 1D\n",
    "mat1D = np.array([1, 2, 3, 4, 5, 6, 7, 8, 9, 10])\n",
    "mat2D = np.array([[1,2,3],[4,5,6],[7,8,9]])"
   ]
  },
  {
   "cell_type": "code",
   "execution_count": 5,
   "id": "5598f8ac-da7f-4a60-8733-d691edff9b4b",
   "metadata": {},
   "outputs": [
    {
     "name": "stdout",
     "output_type": "stream",
     "text": [
      "[ 1  2  3  4  5  6  7  8  9 10]\n"
     ]
    }
   ],
   "source": [
    "print(mat1D)"
   ]
  },
  {
   "cell_type": "code",
   "execution_count": 6,
   "id": "147ca09b-08a1-49f5-91ae-96701f0dc541",
   "metadata": {},
   "outputs": [
    {
     "name": "stdout",
     "output_type": "stream",
     "text": [
      "[ 6  7  8  9 10 11 12 13 14 15]\n"
     ]
    }
   ],
   "source": [
    "print(mat1D + 5)"
   ]
  },
  {
   "cell_type": "code",
   "execution_count": 7,
   "id": "1a6996bc-878b-4c8d-9987-0ec344128d14",
   "metadata": {},
   "outputs": [
    {
     "name": "stdout",
     "output_type": "stream",
     "text": [
      "[[1 2 3]\n",
      " [4 5 6]\n",
      " [7 8 9]]\n"
     ]
    }
   ],
   "source": [
    "print(mat2D)"
   ]
  },
  {
   "cell_type": "code",
   "execution_count": 8,
   "id": "d34aba4d-d10a-47e1-ad6d-9bac28da9b01",
   "metadata": {},
   "outputs": [
    {
     "name": "stdout",
     "output_type": "stream",
     "text": [
      "[1 2 3]\n",
      "[4 5 6]\n",
      "[7 8 9]\n"
     ]
    }
   ],
   "source": [
    "print(mat2D[0])\n",
    "print(mat2D[1])\n",
    "print(mat2D[2])"
   ]
  },
  {
   "cell_type": "code",
   "execution_count": 12,
   "id": "9535abf2-b142-4ae2-8313-304207f4f25c",
   "metadata": {},
   "outputs": [
    {
     "name": "stdout",
     "output_type": "stream",
     "text": [
      "3\n"
     ]
    }
   ],
   "source": [
    "print(mat2D[0] [2])"
   ]
  },
  {
   "cell_type": "code",
   "execution_count": 10,
   "id": "585bd4ac-ff26-41be-8e4f-5411acd89e3d",
   "metadata": {},
   "outputs": [
    {
     "name": "stdout",
     "output_type": "stream",
     "text": [
      "[[10 20 30]\n",
      " [40 50 60]\n",
      " [70 80 90]]\n"
     ]
    }
   ],
   "source": [
    "print(mat2D * 10)"
   ]
  },
  {
   "cell_type": "code",
   "execution_count": 11,
   "id": "6ef2b7f2-502d-4f83-8170-0368f05f527e",
   "metadata": {},
   "outputs": [
    {
     "name": "stdout",
     "output_type": "stream",
     "text": [
      "(10,)\n",
      "(3, 3)\n"
     ]
    }
   ],
   "source": [
    "print(mat1D.shape)\n",
    "print(mat2D.shape)"
   ]
  },
  {
   "cell_type": "code",
   "execution_count": null,
   "id": "f29f886b-c518-4eb1-bd44-19a56fad03c8",
   "metadata": {},
   "outputs": [],
   "source": [
    "print(mat1D.size)\n",
    "print(mat2D.size)"
   ]
  },
  {
   "cell_type": "code",
   "execution_count": 15,
   "id": "51ac3d3d-789e-431c-a624-a2b36eac32fb",
   "metadata": {},
   "outputs": [],
   "source": [
    "#Spesial matriks\n",
    "mZero = np.zeros((3,3))\n",
    "mIdentity = np.eye((4))\n",
    "mFull = np.full((4,4),7)\n",
    "mOne = np.ones((5,4))\n",
    "mRandomFloat = np.random.rand(5,5)\n",
    "mRandomInt = np.random.randint(10,101, size =6)"
   ]
  },
  {
   "cell_type": "code",
   "execution_count": 18,
   "id": "0dc0c6ca-f4d9-4af7-b3f6-df6804ce3eb6",
   "metadata": {},
   "outputs": [
    {
     "name": "stdout",
     "output_type": "stream",
     "text": [
      "[[0. 0. 0.]\n",
      " [0. 0. 0.]\n",
      " [0. 0. 0.]]\n"
     ]
    }
   ],
   "source": [
    "print(mZero)"
   ]
  },
  {
   "cell_type": "code",
   "execution_count": 17,
   "id": "c37ea899-a46e-42b9-89e0-ec00310a97c2",
   "metadata": {},
   "outputs": [
    {
     "name": "stdout",
     "output_type": "stream",
     "text": [
      "[[1. 0. 0. 0.]\n",
      " [0. 1. 0. 0.]\n",
      " [0. 0. 1. 0.]\n",
      " [0. 0. 0. 1.]]\n"
     ]
    }
   ],
   "source": [
    "print(mIdentity)"
   ]
  },
  {
   "cell_type": "code",
   "execution_count": null,
   "id": "74ecd466-239a-4ad0-8d88-373c88c1baff",
   "metadata": {},
   "outputs": [],
   "source": [
    "print(mOne)"
   ]
  },
  {
   "cell_type": "code",
   "execution_count": null,
   "id": "7f29e4c6-d09c-439d-95b3-85f83b9be4e9",
   "metadata": {},
   "outputs": [],
   "source": [
    "print(mRandomFloat)"
   ]
  },
  {
   "cell_type": "code",
   "execution_count": null,
   "id": "0546a7a8-9a1c-4f57-9d32-9c705ec3c2a0",
   "metadata": {},
   "outputs": [],
   "source": [
    "print(mRandomInt)"
   ]
  },
  {
   "cell_type": "code",
   "execution_count": 3,
   "id": "2054c05d-c446-4beb-b532-ab84b5815575",
   "metadata": {},
   "outputs": [
    {
     "ename": "NameError",
     "evalue": "name 'np' is not defined",
     "output_type": "error",
     "traceback": [
      "\u001b[1;31m---------------------------------------------------------------------------\u001b[0m",
      "\u001b[1;31mNameError\u001b[0m                                 Traceback (most recent call last)",
      "Cell \u001b[1;32mIn[3], line 1\u001b[0m\n\u001b[1;32m----> 1\u001b[0m x \u001b[38;5;241m=\u001b[39m np\u001b[38;5;241m.\u001b[39marray ([\u001b[38;5;241m2\u001b[39m,\u001b[38;5;241m6\u001b[39m,\u001b[38;5;241m9\u001b[39m])\n\u001b[0;32m      2\u001b[0m y \u001b[38;5;241m=\u001b[39m np\u001b[38;5;241m.\u001b[39marray([\u001b[38;5;241m1\u001b[39m,\u001b[38;5;241m3\u001b[39m,\u001b[38;5;241m5\u001b[39m])\n\u001b[0;32m      4\u001b[0m dotProduct \u001b[38;5;241m=\u001b[39m np\u001b[38;5;241m.\u001b[39mdot(x,y)\n",
      "\u001b[1;31mNameError\u001b[0m: name 'np' is not defined"
     ]
    }
   ],
   "source": [
    "x = np.array ([2,6,9])\n",
    "y = np.array([1,3,5])\n",
    "\n",
    "dotProduct = np.dot(x,y)\n",
    "addMatrix = np.add(x,y)\n",
    "minValue = np.min(x)\n",
    "maxValue = np.max(y)\n",
    "meanValue = np.mean(y)\n",
    "medianValue = np.median(y)\n",
    "stdValue = np.std(y)\n",
    "print(dotProduct)\n",
    "print(f\"Hasil dari dot Product :{dotProduct}\")\n",
    "print(f\"Hasil Penjumlahan matriks :{addMatrix}\")\n",
    "print(f\"Nilai Minimum dari {x} :{minValue}\")\n",
    "print(f\"Nilai maksimum dari {y} : {maxValue}\")\n",
    "print(f\"Rata-rata Nilai dari {y} : {meanValue}\")\n",
    "print(f\"Nilai median dari {y} : {medianValue}\")\n",
    "print(f\"Nilai Deviasi dari {y} : {stdValue}\")"
   ]
  },
  {
   "cell_type": "code",
   "execution_count": null,
   "id": "3303d1c0-6b65-459e-b0f3-c6ba0f6dd1e3",
   "metadata": {},
   "outputs": [],
   "source": []
  }
 ],
 "metadata": {
  "kernelspec": {
   "display_name": "Python 3 (ipykernel)",
   "language": "python",
   "name": "python3"
  },
  "language_info": {
   "codemirror_mode": {
    "name": "ipython",
    "version": 3
   },
   "file_extension": ".py",
   "mimetype": "text/x-python",
   "name": "python",
   "nbconvert_exporter": "python",
   "pygments_lexer": "ipython3",
   "version": "3.12.9"
  }
 },
 "nbformat": 4,
 "nbformat_minor": 5
}
