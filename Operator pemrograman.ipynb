{
 "cells": [
  {
   "cell_type": "markdown",
   "id": "eeeb41da-16c7-4045-a27d-0247320e8d48",
   "metadata": {},
   "source": [
    "<h1>Operator Aritmatika"
   ]
  },
  {
   "cell_type": "code",
   "execution_count": 1,
   "id": "0550b629-7910-4e06-9163-e4a2f3d5e89b",
   "metadata": {},
   "outputs": [
    {
     "name": "stdin",
     "output_type": "stream",
     "text": [
      "Isikan Nilai x: 50\n",
      "Isikan Nilai y: 4\n"
     ]
    },
    {
     "name": "stdout",
     "output_type": "stream",
     "text": [
      "Hasil Penjumlahan 50 + 4 = 54\n",
      "Hasil Pengurangan 50 - 4 = 46\n",
      "Hasil Perkalian 50 * 4 = 200\n",
      "Hasil Pembagian 50 / 4 = 12.5\n",
      "Hasil Modulus 50 % 4 = 2\n",
      "Hasil Pangkat 50 ^ 4 = 6250000\n",
      "Hasil Pembagian Bulat 50 // 4 = 12\n"
     ]
    }
   ],
   "source": [
    "x = input(\"Isikan Nilai x:\")\n",
    "y = input(\"Isikan Nilai y:\")\n",
    "x = int (x)\n",
    "y = int (y)\n",
    "hasilTambah = x + y\n",
    "hasilKurang = x - y\n",
    "hasilKali = x * y\n",
    "hasilBagi = x / y\n",
    "hasilMod = x % y \n",
    "hasilPangkat = x ** y\n",
    "hasilDiv = x // y\n",
    "\n",
    "print (\"Hasil Penjumlahan\",x,\"+\",y,\"=\",hasilTambah)\n",
    "print (\"Hasil Pengurangan\",x,\"-\",y,\"=\",hasilKurang)\n",
    "print (\"Hasil Perkalian\",x,\"*\",y,\"=\",hasilKali)\n",
    "print (\"Hasil Pembagian\",x,\"/\",y,\"=\",hasilBagi)\n",
    "print (\"Hasil Modulus\",x,\"%\",y,\"=\",hasilMod)\n",
    "print (\"Hasil Pangkat\",x,\"^\",y,\"=\",hasilPangkat)\n",
    "print (\"Hasil Pembagian Bulat\",x,\"//\",y,\"=\",hasilDiv)"
   ]
  },
  {
   "cell_type": "markdown",
   "id": "5ceed82b-9f31-4737-94fa-bb5bc136d216",
   "metadata": {},
   "source": [
    "<h1>Operator Penugasan</h1>"
   ]
  },
  {
   "cell_type": "code",
   "execution_count": 6,
   "id": "d50037f6-e2bd-4680-b466-1e7d6a42cf68",
   "metadata": {},
   "outputs": [
    {
     "name": "stdin",
     "output_type": "stream",
     "text": [
      "Isikan Nilai Awal: 6\n"
     ]
    },
    {
     "name": "stdout",
     "output_type": "stream",
     "text": [
      "Nilai awal : 6\n",
      "setelah ditambah 3= 9\n",
      "setelah dikurang dengan =5 4\n",
      "setelah dikali dengan 3= 12\n",
      "proses terakhir dibagi dengan 2= 6.0\n"
     ]
    }
   ],
   "source": [
    "nilaiAwal = int (input(\"Isikan Nilai Awal:\"))\n",
    "\n",
    "print(\"Nilai awal :\",nilaiAwal)\n",
    "nilaiAwal+=3\n",
    "print(\"setelah ditambah 3=\",nilaiAwal)\n",
    "nilaiAwal-=5\n",
    "print(\"setelah dikurang dengan =5\",nilaiAwal)\n",
    "nilaiAwal*=3\n",
    "print(\"setelah dikali dengan 3=\",nilaiAwal)\n",
    "nilaiAwal/=2\n",
    "print(\"proses terakhir dibagi dengan 2=\",nilaiAwal)\n",
    "\n"
   ]
  },
  {
   "cell_type": "markdown",
   "id": "44f67b41-4d02-458b-9762-9acc23f02d95",
   "metadata": {},
   "source": [
    "<h1>Operator Perbandingan</h1>\n",
    "\n"
   ]
  },
  {
   "cell_type": "code",
   "execution_count": 13,
   "id": "1156b636-0e19-4c8d-ac26-9580662fff32",
   "metadata": {},
   "outputs": [
    {
     "name": "stdin",
     "output_type": "stream",
     "text": [
      "Isikan Nilai fVal : 5\n",
      "Isikan Nilai sVal : 6\n"
     ]
    },
    {
     "name": "stdout",
     "output_type": "stream",
     "text": [
      "5 = 6 False\n",
      "5 != 6 True\n",
      "5 > 6 False\n",
      "5 < 6 True\n",
      "5 >= 6 False\n",
      "5 <= 6 True\n"
     ]
    }
   ],
   "source": [
    "fVal = int(input(\"Isikan Nilai fVal :\"))\n",
    "sVal = int(input(\"Isikan Nilai sVal :\"))\n",
    "\n",
    "print(fVal,\"=\",sVal,fVal==sVal)\n",
    "print(fVal,\"!=\",sVal,fVal!=sVal)\n",
    "print(fVal,\">\",sVal,fVal>sVal)\n",
    "print(fVal,\"<\",sVal,fVal<sVal)\n",
    "print(fVal,\">=\",sVal,fVal>=sVal)\n",
    "print(fVal,\"<=\",sVal,fVal<=sVal)"
   ]
  },
  {
   "cell_type": "markdown",
   "id": "9f160d90-97ab-43d6-992c-b92b3a7b6af0",
   "metadata": {},
   "source": [
    "<h1>Operator Logika</h1>"
   ]
  },
  {
   "cell_type": "code",
   "execution_count": 20,
   "id": "e5302650-b394-47ad-9d79-48a442d8c8df",
   "metadata": {},
   "outputs": [
    {
     "name": "stdin",
     "output_type": "stream",
     "text": [
      "Isikan Bilangan 1: 1\n",
      "Isikan Bilangan 2: 6\n"
     ]
    },
    {
     "name": "stdout",
     "output_type": "stream",
     "text": [
      "Bilangan 1: 1\n",
      "Bilangan 2: 6\n",
      "Apakah Bilangan 1 mod 2 =0 dan Bilangan 2 lebih besar dari 3? False\n",
      "Apakah Bilangan 1 mod 2 =0 dan Bilangan 2 lebih besar dari 3? True\n",
      "Apakah Bilangan 1 mod 2 =0 dan Bilangan 2 lebih besar dari 3? False\n"
     ]
    }
   ],
   "source": [
    "num_1 = int(input(\"Isikan Bilangan 1:\"))\n",
    "num_2 = int(input(\"Isikan Bilangan 2:\"))\n",
    "\n",
    "print(\"Bilangan 1:\",num_1)\n",
    "print(\"Bilangan 2:\",num_2)\n",
    "\n",
    "print(\"Apakah Bilangan 1 mod 2 =0 dan Bilangan 2 lebih besar dari 3?\" ,num_1 % 2==0 and num_2 > 3)\n",
    "print(\"Apakah Bilangan 1 mod 2 =0 dan Bilangan 2 lebih besar dari 3?\" ,num_1 % 2==0 or num_2 > 3)\n",
    "print(\"Apakah Bilangan 1 mod 2 =0 dan Bilangan 2 lebih besar dari 3?\" ,not(num_1 % 2==0 or num_2 > 3))"
   ]
  },
  {
   "cell_type": "markdown",
   "id": "d64767e6-1736-4998-ad38-9c211649a459",
   "metadata": {},
   "source": [
    "<h1>Operator Identitas</h1>"
   ]
  },
  {
   "cell_type": "code",
   "execution_count": 24,
   "id": "c183fb17-4b8e-4c9b-bbe2-4c08d05ab54b",
   "metadata": {},
   "outputs": [
    {
     "name": "stdout",
     "output_type": "stream",
     "text": [
      "True\n",
      "True\n",
      "False\n",
      "Memory Address dari val1 140717739813592\n",
      "Memory Address dari val2 140717739813592\n",
      "Memory Address dari val3 140717739813592\n"
     ]
    },
    {
     "name": "stderr",
     "output_type": "stream",
     "text": [
      "<>:1: SyntaxWarning: \"is\" with 'str' literal. Did you mean \"==\"?\n",
      "<>:1: SyntaxWarning: \"is\" with 'str' literal. Did you mean \"==\"?\n",
      "C:\\Users\\MyBook Hype AMD\\AppData\\Local\\Temp\\ipykernel_580\\2025704931.py:1: SyntaxWarning: \"is\" with 'str' literal. Did you mean \"==\"?\n",
      "  print(\"Andi\" is \"Andi\")\n"
     ]
    }
   ],
   "source": [
    "print(\"Andi\" is \"Andi\")\n",
    "val1 = 10\n",
    "val2 = 10\n",
    "val3 = 10\n",
    "print(val1 is val2)\n",
    "print(val1 is not val2)\n",
    "\n",
    "\n",
    "print(\"Memory Address dari val1\",id(val1))\n",
    "print(\"Memory Address dari val2\",id(val2))\n",
    "print(\"Memory Address dari val3\",id(val3))"
   ]
  },
  {
   "cell_type": "markdown",
   "id": "a0a294ca-f90c-4857-b654-c08c11c13657",
   "metadata": {},
   "source": [
    "<h1>Operator Keanggotaan</h1>"
   ]
  },
  {
   "cell_type": "code",
   "execution_count": 26,
   "id": "f9bf7ff0-3b94-4263-a395-dfbe4077a702",
   "metadata": {},
   "outputs": [
    {
     "name": "stdout",
     "output_type": "stream",
     "text": [
      "False\n",
      "True\n"
     ]
    }
   ],
   "source": [
    "find = \"Budi\"\n",
    "daftarMahasiswa = \"Deci\",\"Chaca\",\"Aknaya\",\"Rafi\"\n",
    "\n",
    "print(find in daftarMahasiswa)\n",
    "print(find not in daftarMahasiswa)"
   ]
  },
  {
   "cell_type": "markdown",
   "id": "04e300c3-e1ce-43e2-8683-28cc40b3afb2",
   "metadata": {},
   "source": [
    "<h1>Operator Bitwise</h1>"
   ]
  },
  {
   "cell_type": "code",
   "execution_count": 27,
   "id": "15addc23-ef22-4119-a8d5-6ca87fa914de",
   "metadata": {},
   "outputs": [
    {
     "name": "stdin",
     "output_type": "stream",
     "text": [
      "Isikan Nilai 1 : 45\n",
      "Isikan Nilai 2 : 65\n"
     ]
    },
    {
     "name": "stdout",
     "output_type": "stream",
     "text": [
      "1\n",
      "109\n",
      "108\n",
      "1660206966633859645440\n",
      "0\n"
     ]
    }
   ],
   "source": [
    "desimal1 = int(input(\"Isikan Nilai 1 :\"))\n",
    "desimal2 = int(input(\"Isikan Nilai 2 :\"))\n",
    "\n",
    "print(desimal1 & desimal2)\n",
    "print(desimal1 | desimal2)\n",
    "print(desimal1 ^ desimal2)\n",
    "print(desimal1 << desimal2)\n",
    "print(desimal1 >> desimal2)"
   ]
  },
  {
   "cell_type": "code",
   "execution_count": null,
   "id": "00290bbe-c618-41bd-9699-aecafc435956",
   "metadata": {},
   "outputs": [],
   "source": []
  }
 ],
 "metadata": {
  "kernelspec": {
   "display_name": "Python 3 (ipykernel)",
   "language": "python",
   "name": "python3"
  },
  "language_info": {
   "codemirror_mode": {
    "name": "ipython",
    "version": 3
   },
   "file_extension": ".py",
   "mimetype": "text/x-python",
   "name": "python",
   "nbconvert_exporter": "python",
   "pygments_lexer": "ipython3",
   "version": "3.12.9"
  }
 },
 "nbformat": 4,
 "nbformat_minor": 5
}
