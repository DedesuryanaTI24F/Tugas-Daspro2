{
 "cells": [
  {
   "cell_type": "code",
   "execution_count": 1,
   "id": "efd66e2f-a5fc-4411-9e14-399a9bb211cc",
   "metadata": {},
   "outputs": [
    {
     "name": "stdout",
     "output_type": "stream",
     "text": [
      "Budi bisa bermain di luar.\n"
     ]
    }
   ],
   "source": [
    "# Kondisi cuaca dan PR  \n",
    "cuaca_cerah = True  # Ganti dengan False jika cuaca tidak cerah  \n",
    "pr_selesai = True    # Ganti dengan False jika PR belum selesai  \n",
    "\n",
    "# Mengevaluasi apakah Budi bisa bermain  \n",
    "budi_bisa_bermain = cuaca_cerah and pr_selesai  \n",
    "\n",
    "# Menggunakan struktur if untuk memberikan output  \n",
    "if budi_bisa_bermain:  \n",
    "    print(\"Budi bisa bermain di luar.\")  \n",
    "else:  \n",
    "    print(\"Budi tidak bisa bermain di luar.\") "
   ]
  },
  {
   "cell_type": "code",
   "execution_count": 2,
   "id": "4c531178-d533-4900-89ad-35150bc5f05a",
   "metadata": {},
   "outputs": [
    {
     "name": "stdout",
     "output_type": "stream",
     "text": [
      "Budi bisa bermain di luar.\n"
     ]
    }
   ],
   "source": [
    "# Kondisi cuaca dan PR  \n",
    "cuaca_cerah = True  # Ganti dengan False jika cuaca tidak cerah  \n",
    "pr_selesai = True    # Ganti dengan False jika PR belum selesai  \n",
    "\n",
    "# Mengevaluasi apakah Budi bisa bermain dan langsung mencetak hasilnya  \n",
    "print(\"Budi bisa bermain di luar.\" if (cuaca_cerah and pr_selesai) else \"Budi tidak bisa bermain di luar.\")"
   ]
  }
 ],
 "metadata": {
  "kernelspec": {
   "display_name": "Python 3 (ipykernel)",
   "language": "python",
   "name": "python3"
  },
  "language_info": {
   "codemirror_mode": {
    "name": "ipython",
    "version": 3
   },
   "file_extension": ".py",
   "mimetype": "text/x-python",
   "name": "python",
   "nbconvert_exporter": "python",
   "pygments_lexer": "ipython3",
   "version": "3.12.9"
  }
 },
 "nbformat": 4,
 "nbformat_minor": 5
}
