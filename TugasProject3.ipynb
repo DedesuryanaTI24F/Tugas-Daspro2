{
 "cells": [
  {
   "cell_type": "markdown",
   "id": "4f02ddc7-c4fe-4230-b609-6bba4464c7a8",
   "metadata": {},
   "source": [
    "<table>\n",
    "    <tr>\n",
    "        <th>PEMBELAJARAN</th>\n",
    "        <th>DASAR PEMROGRAMAN</th>\n",
    "    <tr/>\n",
    "    <tr>\n",
    "        <td>SESI 1</td>\n",
    "        <td>KONSEP DASAR PEMROGRAMAN</td>\n",
    "    </tr>\n",
    "    <tr>\n",
    "        <td>SESI 2</td>\n",
    "        <td>PENGENALAN GIT & PYHTON IDE</td>\n",
    "    </tr>\n",
    "</table>"
   ]
  },
  {
   "cell_type": "code",
   "execution_count": null,
   "id": "c5a8f246-033a-4da7-8a6d-5ff60e25ee9b",
   "metadata": {},
   "outputs": [],
   "source": []
  }
 ],
 "metadata": {
  "kernelspec": {
   "display_name": "Python 3 (ipykernel)",
   "language": "python",
   "name": "python3"
  },
  "language_info": {
   "codemirror_mode": {
    "name": "ipython",
    "version": 3
   },
   "file_extension": ".py",
   "mimetype": "text/x-python",
   "name": "python",
   "nbconvert_exporter": "python",
   "pygments_lexer": "ipython3",
   "version": "3.12.9"
  }
 },
 "nbformat": 4,
 "nbformat_minor": 5
}
