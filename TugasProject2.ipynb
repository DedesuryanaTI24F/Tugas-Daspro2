{
 "cells": [
  {
   "cell_type": "markdown",
   "id": "c7aa497a-279c-4939-8fc7-df0a06753930",
   "metadata": {},
   "source": [
    "<table>\n",
    "    <tr>\n",
    "        <th>PEMBELAJARAN</th>\n",
    "        <th>DASAR PEMROGRAMAN</th>\n",
    "    <tr/>\n",
    "    <tr>\n",
    "        <td>SESI 1</td>\n",
    "        <td>KONSEP DASAR PEMROGRAMAN</td>\n",
    "    </tr>\n",
    "    <tr>\n",
    "        <td>SESI 2</td>\n",
    "        <td>PENGENALAN GIT & PYHTON IDE</td>\n",
    "    </tr>\n",
    "</table>"
   ]
  },
  {
   "cell_type": "code",
   "execution_count": null,
   "id": "1131e957-2187-4184-a540-20c1ad2e1d78",
   "metadata": {},
   "outputs": [],
   "source": []
  }
 ],
 "metadata": {
  "kernelspec": {
   "display_name": "Python 3 (ipykernel)",
   "language": "python",
   "name": "python3"
  },
  "language_info": {
   "codemirror_mode": {
    "name": "ipython",
    "version": 3
   },
   "file_extension": ".py",
   "mimetype": "text/x-python",
   "name": "python",
   "nbconvert_exporter": "python",
   "pygments_lexer": "ipython3",
   "version": "3.12.9"
  }
 },
 "nbformat": 4,
 "nbformat_minor": 5
}
