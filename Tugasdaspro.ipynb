{
 "cells": [
  {
   "cell_type": "markdown",
   "id": "6842fb55-c5ea-46be-b3f0-7c4dfbbda8ce",
   "metadata": {},
   "source": [
    "<img src=\"https://upload.wikimedia.org/wikipedia/commons/thumb/c/c3/Python-logo-notext.svg/1200px-Python-logo-notext.svg.png\" width=200></center><br>Jenis Cell di <b>Jupyter Notebooks</b> ada 2\n",
    "<ol>\n",
    "    <li>Mark Down (M)</li>\n",
    "    <li>Code (Y)</li>\n",
    "</ol>\n",
    "<hr>"
   ]
  },
  {
   "cell_type": "markdown",
   "id": "f5b44c34-200b-40ae-af9b-e5a745fa94b4",
   "metadata": {},
   "source": [
    "<table>\n",
    "    <tr>\n",
    "        <th>PEMBELAJARAN</th>\n",
    "        <th>DASAR PEMROGRAMAN</th>\n",
    "    <tr/>\n",
    "    <tr>\n",
    "        <td>SESI 1</td>\n",
    "        <td>KONSEP DASAR PEMROGRAMAN</td>\n",
    "    </tr>\n",
    "    <tr>\n",
    "        <td>SESI 2</td>\n",
    "        <td>PENGENALAN GIT & PYHTON IDE</td>\n",
    "    </tr>\n",
    "</table>"
   ]
  },
  {
   "cell_type": "code",
   "execution_count": null,
   "id": "91cf7132-6d9a-47fa-8dfc-d72eaa126a7f",
   "metadata": {},
   "outputs": [],
   "source": []
  }
 ],
 "metadata": {
  "kernelspec": {
   "display_name": "Python 3 (ipykernel)",
   "language": "python",
   "name": "python3"
  },
  "language_info": {
   "codemirror_mode": {
    "name": "ipython",
    "version": 3
   },
   "file_extension": ".py",
   "mimetype": "text/x-python",
   "name": "python",
   "nbconvert_exporter": "python",
   "pygments_lexer": "ipython3",
   "version": "3.12.9"
  }
 },
 "nbformat": 4,
 "nbformat_minor": 5
}
