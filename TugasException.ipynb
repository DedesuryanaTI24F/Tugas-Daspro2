{
 "cells": [
  {
   "cell_type": "code",
   "execution_count": 12,
   "id": "12260fcc-4730-41e4-838e-61041f4d7102",
   "metadata": {},
   "outputs": [],
   "source": [
    "#Buatlah program menu untuk menambahkan dan menampilkan data Mahasiswa yang terdiri dari NIM, NAMA, ALAMAT, KELAS dengan aturan sebagai berikut:\n",
    "#NIM harus 11 digit\n",
    "#NAMA minimal 6 digit\n",
    "#ALAMAT minimal 10 digit\n",
    "#KELAS hanya boleh \"TI23\" dan \"TI24\""
   ]
  },
  {
   "cell_type": "code",
   "execution_count": 1,
   "id": "9e745998-1933-4db3-ba1f-9b4be376c8f3",
   "metadata": {},
   "outputs": [],
   "source": [
    "datalist = []\n",
    "class MinimalDigit(Exception):\n",
    "    pass"
   ]
  },
  {
   "cell_type": "code",
   "execution_count": 2,
   "id": "a6af6384-ef8b-4e80-92df-a8c06ad2ac7b",
   "metadata": {},
   "outputs": [],
   "source": [
    "def addStudent():\n",
    "    id_student = input(\"Masukan ID Mahasiswa:\")\n",
    "    if len(id_student) != 11:\n",
    "        raise MinimalDigit(\"Harus 11 Digit\")\n",
    "    name_student = input(\"Masukan Nama Mahasiswa:\")\n",
    "    if len(name_student) < 6:\n",
    "        raise MinimalDigit(\"Minimal Harus 6 Huruf\")\n",
    "    address_student = input(\"Masukan Alamat Mahasiswa:\")\n",
    "    if len(address_student) < 10:\n",
    "        raise MinimalDigit(\"Minimal Harus 10 Huruf\")\n",
    "    class_student = input(\"Masukan Kelas (TI23/TI24):\")\n",
    "    if class_student != \"TI23\" and class_student != \"TI24\":\n",
    "        raise MinimalDigit(\"Harus TI23/TI24\")\n",
    "    temp = {\"Nim\": id_student,\"nama\": name_student,\"alamat\": address_student,\"kelas\": class_student}\n",
    "    datalist.append(temp)"
   ]
  },
  {
   "cell_type": "code",
   "execution_count": 3,
   "id": "fef71302-63c4-4778-a113-6565f3164b94",
   "metadata": {},
   "outputs": [],
   "source": [
    "def readStudent():\n",
    "    print(datalist)"
   ]
  },
  {
   "cell_type": "code",
   "execution_count": 5,
   "id": "a34467da-9c73-449b-982e-0dca5cf157fe",
   "metadata": {},
   "outputs": [
    {
     "name": "stdout",
     "output_type": "stream",
     "text": [
      "---Menu--- \n",
      "\n",
      "1.Tambahkan Mahasiswa \n",
      "2.Tampilkan Seluruh Mahasiswa \n",
      "3.Keluar\n"
     ]
    },
    {
     "name": "stdin",
     "output_type": "stream",
     "text": [
      " 1\n",
      "Masukan ID Mahasiswa: 1234567\n"
     ]
    },
    {
     "name": "stdout",
     "output_type": "stream",
     "text": [
      "Terjadi Kesalahan: Harus 11 Digit\n",
      "---Menu--- \n",
      "\n",
      "1.Tambahkan Mahasiswa \n",
      "2.Tampilkan Seluruh Mahasiswa \n",
      "3.Keluar\n"
     ]
    },
    {
     "name": "stdin",
     "output_type": "stream",
     "text": [
      " 1\n",
      "Masukan ID Mahasiswa: 12345678909\n",
      "Masukan Nama Mahasiswa: terserah\n",
      "Masukan Alamat Mahasiswa: eddgurrrejjkjhg\n",
      "Masukan Kelas (TI23/TI24): TI24\n"
     ]
    },
    {
     "name": "stdout",
     "output_type": "stream",
     "text": [
      "---Menu--- \n",
      "\n",
      "1.Tambahkan Mahasiswa \n",
      "2.Tampilkan Seluruh Mahasiswa \n",
      "3.Keluar\n"
     ]
    },
    {
     "name": "stdin",
     "output_type": "stream",
     "text": [
      " 3\n"
     ]
    }
   ],
   "source": [
    "i = True\n",
    "while i is True:\n",
    "    try:\n",
    "        print(\"---Menu--- \\n\\n1.Tambahkan Mahasiswa \\n2.Tampilkan Seluruh Mahasiswa \\n3.Keluar\")\n",
    "        pilihan = int(input())\n",
    "        \n",
    "        if pilihan == 1:\n",
    "            addStudent()\n",
    "        \n",
    "        elif pilihan == 2:\n",
    "            readStudent()\n",
    "        \n",
    "        elif pilihan == 3:\n",
    "            i = False\n",
    "        else:\n",
    "            print(\"Masukan angka yang ada di menu (1-3)\")\n",
    "    except (MinimalDigit) as err:\n",
    "        print(\"Terjadi Kesalahan:\", err)\n",
    "    except ValueError:\n",
    "        print(\"Harus Angka\")"
   ]
  },
  {
   "cell_type": "code",
   "execution_count": null,
   "id": "6cb1609c-17bc-4cab-afa2-e002bfd84cf9",
   "metadata": {},
   "outputs": [],
   "source": []
  },
  {
   "cell_type": "code",
   "execution_count": null,
   "id": "2010d606-99a1-4bae-8bf2-caf407b90828",
   "metadata": {},
   "outputs": [],
   "source": []
  }
 ],
 "metadata": {
  "kernelspec": {
   "display_name": "Python 3 (ipykernel)",
   "language": "python",
   "name": "python3"
  },
  "language_info": {
   "codemirror_mode": {
    "name": "ipython",
    "version": 3
   },
   "file_extension": ".py",
   "mimetype": "text/x-python",
   "name": "python",
   "nbconvert_exporter": "python",
   "pygments_lexer": "ipython3",
   "version": "3.12.9"
  }
 },
 "nbformat": 4,
 "nbformat_minor": 5
}
