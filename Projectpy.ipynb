{
 "cells": [
  {
   "cell_type": "markdown",
   "id": "22280c2c-d41e-4336-889a-820eaa5ea318",
   "metadata": {},
   "source": [
    "<table>\n",
    "    <tr>\n",
    "        <th>PEMBELAJARAN</th>\n",
    "        <th>DASAR PEMROGRAMAN</th>\n",
    "    <tr/>\n",
    "    <tr>\n",
    "        <td>SESI 1</td>\n",
    "        <td>KONSEP DASAR PEMROGRAMAN</td>\n",
    "    </tr>\n",
    "    <tr>\n",
    "        <td>SESI 2</td>\n",
    "        <td>PENGENALAN GIT & PYHTON IDE</td>\n",
    "    </tr>\n",
    "</table>"
   ]
  },
  {
   "cell_type": "code",
   "execution_count": null,
   "id": "d2a6b2e2-bd00-4642-b8aa-d1be593bf81d",
   "metadata": {},
   "outputs": [],
   "source": []
  }
 ],
 "metadata": {
  "kernelspec": {
   "display_name": "Python 3 (ipykernel)",
   "language": "python",
   "name": "python3"
  },
  "language_info": {
   "codemirror_mode": {
    "name": "ipython",
    "version": 3
   },
   "file_extension": ".py",
   "mimetype": "text/x-python",
   "name": "python",
   "nbconvert_exporter": "python",
   "pygments_lexer": "ipython3",
   "version": "3.12.9"
  }
 },
 "nbformat": 4,
 "nbformat_minor": 5
}
