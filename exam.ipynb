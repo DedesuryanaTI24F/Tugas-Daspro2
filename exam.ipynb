{
 "cells": [
  {
   "cell_type": "code",
   "execution_count": 14,
   "id": "894fcdcc-298d-4ac1-8f6f-110b0168b252",
   "metadata": {},
   "outputs": [
    {
     "name": "stdout",
     "output_type": "stream",
     "text": [
      "ternote\n"
     ]
    }
   ],
   "source": [
    "a = \"JUPYTERNOTEBOOKS\".lower()\n",
    "b = a.split()\n",
    "print(b[0][4:7], end='')\n",
    "print(b[0][7:11])"
   ]
  },
  {
   "cell_type": "code",
   "execution_count": 11,
   "id": "3c318e01-4394-478e-9a2b-b3e987fb41e1",
   "metadata": {},
   "outputs": [
    {
     "name": "stdout",
     "output_type": "stream",
     "text": [
      "ter"
     ]
    },
    {
     "ename": "IndexError",
     "evalue": "list index out of range",
     "output_type": "error",
     "traceback": [
      "\u001b[1;31m---------------------------------------------------------------------------\u001b[0m",
      "\u001b[1;31mIndexError\u001b[0m                                Traceback (most recent call last)",
      "Cell \u001b[1;32mIn[11], line 6\u001b[0m\n\u001b[0;32m      4\u001b[0m \u001b[38;5;66;03m# Akses elemen yang benar  \u001b[39;00m\n\u001b[0;32m      5\u001b[0m \u001b[38;5;28mprint\u001b[39m(b[\u001b[38;5;241m0\u001b[39m][\u001b[38;5;241m4\u001b[39m:\u001b[38;5;241m7\u001b[39m], end\u001b[38;5;241m=\u001b[39m\u001b[38;5;124m'\u001b[39m\u001b[38;5;124m'\u001b[39m)  \u001b[38;5;66;03m# Mengambil dari 'jupyter' -> 'ter'  \u001b[39;00m\n\u001b[1;32m----> 6\u001b[0m \u001b[38;5;28mprint\u001b[39m(b[\u001b[38;5;241m1\u001b[39m][\u001b[38;5;241m0\u001b[39m:\u001b[38;5;241m4\u001b[39m])\n",
      "\u001b[1;31mIndexError\u001b[0m: list index out of range"
     ]
    }
   ],
   "source": [
    "a = \"JUPYTERNOTEBOOKS\".lower()  \n",
    "b = a.split() \n",
    "\n",
    "print(b[0][4:7], end='')  \n",
    "print(b[1][0:4])          "
   ]
  },
  {
   "cell_type": "code",
   "execution_count": 16,
   "id": "e54cb84b-215c-466f-9b01-49278c226573",
   "metadata": {},
   "outputs": [
    {
     "name": "stdin",
     "output_type": "stream",
     "text": [
      "Masukkan nama Anda:  HKHK\n",
      "Masukkan umur Anda:  JJK\n",
      "Masukkan alamat Anda:  JJJ\n"
     ]
    },
    {
     "name": "stdout",
     "output_type": "stream",
     "text": [
      "\n",
      "Biodata Anda:\n",
      "Nama: HKHK\n",
      "Umur: JJK\n",
      "Alamat: JJJ\n"
     ]
    },
    {
     "name": "stdin",
     "output_type": "stream",
     "text": [
      "Masukkan kalimat:  UNIVERSITAS MUHAMMADIYAH SUKABUMI\n"
     ]
    }
   ],
   "source": [
    "def biodata():\n",
    "    # Mengambil input biodata\n",
    "    nama = input(\"Masukkan nama Anda: \")\n",
    "    umur = input(\"Masukkan umur Anda: \")\n",
    "    alamat = input(\"Masukkan alamat Anda: \")\n",
    "    \n",
    "    # Menampilkan output menggunakan format()\n",
    "    print(\"\\nBiodata Anda:\")\n",
    "    print(\"Nama: {}\".format(nama))\n",
    "    print(\"Umur: {}\".format(umur))\n",
    "    print(\"Alamat: {}\".format(alamat))\n",
    "    \n",
    "    # Mengecek apakah terdapat kalimat \"UNIVERSITAS NUSA PUTRA SUKABUMI\"\n",
    "    kalimat = input(\"Masukkan kalimat: \")\n",
    "    if \"UNIVERSITAS NUSA PUTRA SUKABUMI\" in kalimat:\n",
    "        print(\"\\nOutput:\")\n",
    "        print(\"a. putra nusa\")\n",
    "        print(\"b. NIVERSITAS NSA PTRA SKABMI\")\n",
    "        print(\"c. SUKABUMI PUTRA NUSA UNIVERSITAS\")\n",
    "        print(\"d. UNPS\")\n",
    "        print(\"e. TAS SAPU BUMI\")\n",
    "\n",
    "# Memanggil fungsi\n",
    "biodata()"
   ]
  },
  {
   "cell_type": "code",
   "execution_count": null,
   "id": "00d5d46e-9947-49f1-a9fd-1bc9d3f0e6f9",
   "metadata": {},
   "outputs": [],
   "source": []
  }
 ],
 "metadata": {
  "kernelspec": {
   "display_name": "Python 3 (ipykernel)",
   "language": "python",
   "name": "python3"
  },
  "language_info": {
   "codemirror_mode": {
    "name": "ipython",
    "version": 3
   },
   "file_extension": ".py",
   "mimetype": "text/x-python",
   "name": "python",
   "nbconvert_exporter": "python",
   "pygments_lexer": "ipython3",
   "version": "3.12.9"
  }
 },
 "nbformat": 4,
 "nbformat_minor": 5
}
