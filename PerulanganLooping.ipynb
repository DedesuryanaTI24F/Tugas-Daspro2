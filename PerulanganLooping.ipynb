{
 "cells": [
  {
   "cell_type": "markdown",
   "id": "e35e97a3-0921-4160-92de-495ffe1d3737",
   "metadata": {},
   "source": [
    "<h1>for variabel in collection</h1>"
   ]
  },
  {
   "cell_type": "code",
   "execution_count": 1,
   "id": "a5f7cc4a-77a0-450a-b2d3-87a27caae78f",
   "metadata": {},
   "outputs": [
    {
     "name": "stdout",
     "output_type": "stream",
     "text": [
      "Nama Buah : Apple\n",
      "Nama Buah : Banana\n",
      "Nama Buah : Watermelon\n",
      "Nama Buah : Pineaplle\n"
     ]
    }
   ],
   "source": [
    "fruits = [\"Apple\", \"Banana\",\"Watermelon\",\"Pineaplle\"]\n",
    "for fruit in fruits:\n",
    "    print(f\"Nama Buah : {fruit}\")"
   ]
  },
  {
   "cell_type": "code",
   "execution_count": 4,
   "id": "0880f04a-b25c-443e-b0ce-63860d6ee7d8",
   "metadata": {},
   "outputs": [
    {
     "name": "stdout",
     "output_type": "stream",
     "text": [
      "Nilai Rata-rata : 71.42857142857143\n"
     ]
    }
   ],
   "source": [
    "#contoh penggunaan\n",
    "#kelas TI24F punya data nilai pemrograman python 80,100,90,70,70,50,40\n",
    "#carilah nilai rata-rata nilai pemrograman python di kelas TI24F\n",
    "\n",
    "nilaiPython = [80,100,90,70,70,50,40]\n",
    "total = 0\n",
    "for nilai in nilaiPython:\n",
    "    total += nilai\n",
    "\n",
    "rata2 = total / len(nilaiPython)\n",
    "print(f\"Nilai Rata-rata : {rata2}\")\n"
   ]
  },
  {
   "cell_type": "code",
   "execution_count": 6,
   "id": "69129fff-f285-4a35-99c0-f01cc49daef6",
   "metadata": {},
   "outputs": [
    {
     "name": "stdout",
     "output_type": "stream",
     "text": [
      "0 : Jan\n",
      "1 : Feb\n",
      "2 : Mar\n",
      "3 : Apr\n",
      "4 : Mei\n",
      "5 : Jun\n",
      "6 : Jul\n",
      "7 : Aug\n",
      "8 : Sep\n"
     ]
    }
   ],
   "source": [
    "#enumerate\n",
    "month = [\"Jan\",\"Feb\",\"Mar\",\"Apr\",\"Mei\",\"Jun\",\"Jul\",\"Aug\",\"Sep\"]\n",
    "for i, m in enumerate(month): #(i) untuk variabel nama contoh nya month. #(m) untuk tipe data dari variabel nya\n",
    "    print(f\"{i} : {m}\")\n"
   ]
  },
  {
   "cell_type": "code",
   "execution_count": 7,
   "id": "e4ded644-45d0-4e61-86d8-7c02d03f8cd9",
   "metadata": {},
   "outputs": [
    {
     "name": "stdin",
     "output_type": "stream",
     "text": [
      "isikan Nama Kampus : Nua Putra\n"
     ]
    },
    {
     "name": "stdout",
     "output_type": "stream",
     "text": [
      "N\n",
      "u\n",
      "a\n",
      " \n",
      "P\n",
      "u\n",
      "t\n",
      "r\n",
      "a\n"
     ]
    }
   ],
   "source": [
    "kampus = input(\"isikan Nama Kampus :\")\n",
    "for karakter in kampus :\n",
    "    print(karakter) #berapa banyak jumah huruf vokalnya"
   ]
  },
  {
   "cell_type": "code",
   "execution_count": 11,
   "id": "b63b7e3e-8dc4-474c-b529-d9a6d97b7ce2",
   "metadata": {},
   "outputs": [
    {
     "name": "stdin",
     "output_type": "stream",
     "text": [
      "isikan Nama Kampus : Nusa Putra\n"
     ]
    },
    {
     "name": "stdout",
     "output_type": "stream",
     "text": [
      "N adalah Bukan Huruf Vokal |Total :0\n",
      "u adalah Huruf Vokal |Total :1\n",
      "s adalah Bukan Huruf Vokal |Total :1\n",
      "a adalah Huruf Vokal |Total :2\n",
      "  adalah Bukan Huruf Vokal |Total :2\n",
      "P adalah Bukan Huruf Vokal |Total :2\n",
      "u adalah Huruf Vokal |Total :3\n",
      "t adalah Bukan Huruf Vokal |Total :3\n",
      "r adalah Bukan Huruf Vokal |Total :3\n",
      "a adalah Huruf Vokal |Total :4\n",
      "Jumlah Total huruf Vokal : 4\n"
     ]
    }
   ],
   "source": [
    "kampus = input(\"isikan Nama Kampus :\")\n",
    "listVocal = [\"a\",\"i\",\"u\",\"e\",\"o\"]\n",
    "total = 0\n",
    "for karakter in kampus :\n",
    "    if karakter in listVocal :\n",
    "        total += 1\n",
    "        isVokal = \"Huruf Vokal\"\n",
    "    else:\n",
    "        isVokal = \"Bukan Huruf Vokal\"\n",
    "    print(f\"{karakter} adalah {isVokal} |Total :{total}\") \n",
    "print(f\"Jumlah Total huruf Vokal : {total}\")"
   ]
  },
  {
   "cell_type": "code",
   "execution_count": 10,
   "id": "c1a033b2-a8a8-44b7-866a-5b76abd827a3",
   "metadata": {},
   "outputs": [
    {
     "name": "stdout",
     "output_type": "stream",
     "text": [
      "[1, 4, 9, 16, 25]\n"
     ]
    }
   ],
   "source": [
    "#looping list comprehension\n",
    "data = [1,2,3,4,5]\n",
    "pangkat = [x**2 for x in data]\n",
    "print(pangkat)"
   ]
  },
  {
   "cell_type": "code",
   "execution_count": 12,
   "id": "51ba87eb-1ce7-4ce7-949b-fc0fabf85f23",
   "metadata": {},
   "outputs": [
    {
     "name": "stdout",
     "output_type": "stream",
     "text": [
      "Nilai i adalah :0\n",
      "Nilai i adalah :1\n",
      "Nilai i adalah :2\n",
      "Nilai i adalah :3\n",
      "Nilai i adalah :4\n",
      "Nilai i adalah :5\n",
      "Nilai i adalah :6\n",
      "Nilai i adalah :7\n",
      "Nilai i adalah :8\n",
      "Nilai i adalah :9\n"
     ]
    }
   ],
   "source": [
    "#range\n",
    "for i in range(10):\n",
    "    print(f\"Nilai i adalah :{i}\")"
   ]
  },
  {
   "cell_type": "code",
   "execution_count": 13,
   "id": "c10ca320-3b18-4fad-a119-ebb2ee21d4f3",
   "metadata": {},
   "outputs": [
    {
     "name": "stdout",
     "output_type": "stream",
     "text": [
      "Nilai u : 5\n",
      "Nilai u : 6\n",
      "Nilai u : 7\n",
      "Nilai u : 8\n",
      "Nilai u : 9\n"
     ]
    }
   ],
   "source": [
    "for u in range (5,10):\n",
    "    print(f\"Nilai u : {u}\")"
   ]
  },
  {
   "cell_type": "code",
   "execution_count": 14,
   "id": "1ede3fec-ae42-42a6-8a7b-ccc6df6a6b0e",
   "metadata": {},
   "outputs": [
    {
     "name": "stdin",
     "output_type": "stream",
     "text": [
      "isikan Bilangan: 7\n"
     ]
    },
    {
     "name": "stdout",
     "output_type": "stream",
     "text": [
      "7 adalah Bilangan Prima\n"
     ]
    }
   ],
   "source": [
    "#cek bilangan prima atua bukan\n",
    "number = int(input(\"isikan Bilangan:\"))\n",
    "faktor = 0 \n",
    "for i in range(1,number+1):\n",
    "    if number % i == 0:\n",
    "        faktor +=1\n",
    "if faktor ==2:\n",
    "    print(f\"{number} adalah Bilangan Prima\")\n",
    "else:\n",
    "    print(f\"{number} adalah bukan Bilanngan Prima\")"
   ]
  },
  {
   "cell_type": "code",
   "execution_count": 19,
   "id": "01cf9c20-5399-4803-8197-00d52dd5fe9f",
   "metadata": {},
   "outputs": [
    {
     "name": "stdin",
     "output_type": "stream",
     "text": [
      "Isikan Bilangan : 4\n"
     ]
    },
    {
     "name": "stdout",
     "output_type": "stream",
     "text": [
      "4! = 24\n"
     ]
    }
   ],
   "source": [
    "#faktorial\n",
    "#3! = 3*2*1 = 6\n",
    "\n",
    "total = 1\n",
    "number = int(input(\"Isikan Bilangan :\"))\n",
    "for i in range(1,number+1):\n",
    "    total*=i\n",
    "print(f\"{number}! = {total}\")\n"
   ]
  },
  {
   "cell_type": "code",
   "execution_count": 22,
   "id": "050d45a1-4529-45b8-be07-a6c221aaebe0",
   "metadata": {},
   "outputs": [
    {
     "name": "stdin",
     "output_type": "stream",
     "text": [
      "Isikan Bilangan : 10\n"
     ]
    },
    {
     "name": "stdout",
     "output_type": "stream",
     "text": [
      "1 -2 3 -4 5 -6 7 -8 9 -10 "
     ]
    }
   ],
   "source": [
    "#1 -2 3 -4 5 -6 7 -8 9 -10\n",
    "number = int(input(\"Isikan Bilangan :\"))\n",
    "sign = 1\n",
    "for i in range(1,number+1):\n",
    "    result = sign *i\n",
    "    print(f\"{result} \", end='')\n",
    "    sign *= -1"
   ]
  },
  {
   "cell_type": "code",
   "execution_count": 24,
   "id": "f6580b59-c26c-4bea-b055-463619cecdb9",
   "metadata": {},
   "outputs": [
    {
     "name": "stdout",
     "output_type": "stream",
     "text": [
      "Jumlah penonton Laki-Laki :4\n",
      "Jumlah Penonton Perempuan :3\n"
     ]
    }
   ],
   "source": [
    "kursiBioskop = [\"L\",\"P\",\"P\",\"L\",\"L\",\"P\",\"L\"]\n",
    "totalLaki = 0\n",
    "for jenis in kursiBioskop:\n",
    "    if jenis==\"L\":\n",
    "        totalLaki +=1\n",
    "print(f\"Jumlah penonton Laki-Laki :{totalLaki}\")\n",
    "print(f\"Jumlah Penonton Perempuan :{len(kursiBioskop)-totalLaki}\")\n"
   ]
  },
  {
   "cell_type": "code",
   "execution_count": 25,
   "id": "906b2166-08f1-4a20-9d5d-5c5c1882588d",
   "metadata": {},
   "outputs": [
    {
     "name": "stdout",
     "output_type": "stream",
     "text": [
      "Jumlah Couple :4\n"
     ]
    }
   ],
   "source": [
    "kursiBioskop = [\"L\",\"P\",\"P\",\"L\",\"L\",\"P\",\"L\"]\n",
    "couple =0\n",
    "for i in range (len(kursiBioskop)-1):\n",
    "    if kursiBioskop[i] != kursiBioskop[i+1]:\n",
    "        couple+=1\n",
    "print(f\"Jumlah Couple :{couple}\")"
   ]
  },
  {
   "cell_type": "code",
   "execution_count": 29,
   "id": "0113d53d-3e82-4d2e-ab29-06d5c8d7f271",
   "metadata": {},
   "outputs": [
    {
     "name": "stdout",
     "output_type": "stream",
     "text": [
      "fname : Desur\n",
      "lname : Agus\n"
     ]
    }
   ],
   "source": [
    "data =  {\n",
    "    \"fname\" : \"Desur\",\n",
    "    \"lname\" : \"Agus\"\n",
    "}\n",
    "for key,value in data.items():\n",
    "    print(f\"{key} : {value}\")"
   ]
  },
  {
   "cell_type": "code",
   "execution_count": null,
   "id": "c1384e26-17d8-442f-8863-a8705ab123f8",
   "metadata": {},
   "outputs": [],
   "source": []
  }
 ],
 "metadata": {
  "kernelspec": {
   "display_name": "Python 3 (ipykernel)",
   "language": "python",
   "name": "python3"
  },
  "language_info": {
   "codemirror_mode": {
    "name": "ipython",
    "version": 3
   },
   "file_extension": ".py",
   "mimetype": "text/x-python",
   "name": "python",
   "nbconvert_exporter": "python",
   "pygments_lexer": "ipython3",
   "version": "3.12.9"
  }
 },
 "nbformat": 4,
 "nbformat_minor": 5
}
