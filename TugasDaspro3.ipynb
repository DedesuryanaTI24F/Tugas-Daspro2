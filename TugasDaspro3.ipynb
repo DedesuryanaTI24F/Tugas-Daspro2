{
 "cells": [
  {
   "cell_type": "markdown",
   "id": "e60ec171-dbf0-4b13-9f62-ac7b4de32433",
   "metadata": {},
   "source": [
    "<table>\n",
    "    <tr>\n",
    "        <th>PEMBELAJARAN</th>\n",
    "        <th>DASAR PEMROGRAMAN</th>\n",
    "    <tr/>\n",
    "    <tr>\n",
    "        <td>SESI 1</td>\n",
    "        <td>KONSEP DASAR PEMROGRAMAN</td>\n",
    "    </tr>\n",
    "    <tr>\n",
    "        <td>SESI 2</td>\n",
    "        <td>PENGENALAN GIT & PYHTON IDE</td>\n",
    "    </tr>\n",
    "</table>"
   ]
  },
  {
   "cell_type": "code",
   "execution_count": null,
   "id": "f1ef2ed5-b761-4db2-a695-c05b4a006dc7",
   "metadata": {},
   "outputs": [],
   "source": []
  }
 ],
 "metadata": {
  "kernelspec": {
   "display_name": "Python 3 (ipykernel)",
   "language": "python",
   "name": "python3"
  },
  "language_info": {
   "codemirror_mode": {
    "name": "ipython",
    "version": 3
   },
   "file_extension": ".py",
   "mimetype": "text/x-python",
   "name": "python",
   "nbconvert_exporter": "python",
   "pygments_lexer": "ipython3",
   "version": "3.12.9"
  }
 },
 "nbformat": 4,
 "nbformat_minor": 5
}
