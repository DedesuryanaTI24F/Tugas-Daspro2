{
 "cells": [
  {
   "cell_type": "markdown",
   "id": "94726453-c4ee-4c42-a6ed-f1506018b6d8",
   "metadata": {},
   "source": [
    "<h>Operator Aritmatika</h>"
   ]
  },
  {
   "cell_type": "code",
   "execution_count": 8,
   "id": "eb67d286-b3fd-4ed8-8c85-c648cf0c9bdb",
   "metadata": {},
   "outputs": [
    {
     "name": "stdout",
     "output_type": "stream",
     "text": [
      "Setiap teman akan menerima : 3.0 Apel\n",
      "Total Apel yang dimiliki Budi sekarang adalah : 20 Apel\n"
     ]
    }
   ],
   "source": [
    "jumlahApelBudi = 12\n",
    "jumlahTeman = 4 \n",
    "    \n",
    "apelDibagijumlahTeman = jumlahApelBudi/jumlahTeman\n",
    "print(\"Setiap teman akan menerima :\", apelDibagijumlahTeman, \"Apel\")\n",
    "\n",
    "tambahanApel = 8\n",
    "totalApelsekarang = jumlahApelBudi + tambahanApel\n",
    "print(\"Total Apel yang dimiliki Budi sekarang adalah :\",totalApelsekarang,\"Apel\")\n",
    "      \n"
   ]
  },
  {
   "cell_type": "markdown",
   "id": "24dd7a0d-9718-4e32-b5f2-333c0451a94c",
   "metadata": {},
   "source": [
    "<h>Operator Perbandingan</h>"
   ]
  },
  {
   "cell_type": "code",
   "execution_count": 10,
   "id": "efec12b6-7e53-4e35-9d27-c8c2b6b7961c",
   "metadata": {},
   "outputs": [
    {
     "name": "stdin",
     "output_type": "stream",
     "text": [
      "Isikan tinggi badan Siti 160\n",
      "Isikan tinggi badan Andi 165\n"
     ]
    },
    {
     "name": "stdout",
     "output_type": "stream",
     "text": [
      "160 = 165 False\n",
      "160 != 165 True\n",
      "160 > 165 False\n",
      "160 < 165 True\n",
      "160 >= 165 False\n",
      "160 <= 165 True\n"
     ]
    }
   ],
   "source": [
    "fVal = int(input(\"Isikan tinggi badan Siti\"))\n",
    "sVal = int(input(\"Isikan tinggi badan Andi\"))\n",
    "\n",
    "print(fVal,\"=\",sVal,fVal==sVal)\n",
    "print(fVal,\"!=\",sVal,fVal!=sVal)\n",
    "print(fVal,\">\",sVal,fVal>sVal)\n",
    "print(fVal,\"<\",sVal,fVal<sVal)\n",
    "print(fVal,\">=\",sVal,fVal>=sVal)\n",
    "print(fVal,\"<=\",sVal,fVal<=sVal)"
   ]
  },
  {
   "cell_type": "markdown",
   "id": "45d6f242-865c-4610-a8f7-61a9558a463c",
   "metadata": {},
   "source": [
    "<h>Operator Logika</h>"
   ]
  },
  {
   "cell_type": "code",
   "execution_count": 14,
   "id": "89bf5eb5-8e96-4025-b0ec-07627aa74b74",
   "metadata": {},
   "outputs": [
    {
     "name": "stdout",
     "output_type": "stream",
     "text": [
      "Budi Tidak Bisa Bermain Diluar \n"
     ]
    }
   ],
   "source": [
    "cuacaCerah = True\n",
    "sudahMenyelesaikanPR = False\n",
    "\n",
    "bisaBermain = cuacaCerah and sudahMenyelesaikanPR\n",
    "\n",
    "if bisaBermain:\n",
    "    print (\"Budi Bisa Bermain Diluar \")\n",
    "else :\n",
    "    print(\"Budi Tidak Bisa Bermain Diluar \")\n"
   ]
  },
  {
   "cell_type": "markdown",
   "id": "f0da7f81-92d0-4782-acca-15450e9f6bef",
   "metadata": {},
   "source": [
    "<h>Operator Bitwise</h>"
   ]
  },
  {
   "cell_type": "code",
   "execution_count": 16,
   "id": "6688611b-74a4-4fdd-b3be-b90d38234cdf",
   "metadata": {},
   "outputs": [
    {
     "name": "stdout",
     "output_type": "stream",
     "text": [
      "2\n",
      "7\n",
      "5\n"
     ]
    }
   ],
   "source": [
    "angka1 = 6\n",
    "angka2 = 3 \n",
    "\n",
    "print(angka1 & angka2)\n",
    "print(angka1 | angka2)\n",
    "print(angka1 ^ angka2)"
   ]
  },
  {
   "cell_type": "markdown",
   "id": "ed0142cb-c73e-44ee-829e-e1c419e9d3dd",
   "metadata": {},
   "source": [
    "<h>Operator Penugasan<h/>"
   ]
  },
  {
   "cell_type": "code",
   "execution_count": 19,
   "id": "4e6ba4b4-d0af-4ad6-8a8d-f49c3a57d207",
   "metadata": {},
   "outputs": [
    {
     "name": "stdin",
     "output_type": "stream",
     "text": [
      "Isikan Uang Awal: 50000\n"
     ]
    },
    {
     "name": "stdout",
     "output_type": "stream",
     "text": [
      "Uang awal : 50000\n",
      "setelah mengisi ulang 20000 = 70000\n",
      "sisa uang dikurang membeli internet 30000 = 40000\n"
     ]
    }
   ],
   "source": [
    "nilaiAwal = int (input(\"Isikan Uang Awal:\"))\n",
    "print(\"Uang awal :\",nilaiAwal)\n",
    "nilaiAwal+=20000\n",
    "print(\"setelah mengisi ulang 20000 =\",nilaiAwal)\n",
    "nilaiAwal-=30000\n",
    "print(\"sisa uang dikurang membeli internet 30000 =\",nilaiAwal)"
   ]
  },
  {
   "cell_type": "markdown",
   "id": "ec9c9795-28b6-4f6b-a930-e99161657b70",
   "metadata": {},
   "source": [
    "<h>Operator Keanggotaan<h/>"
   ]
  },
  {
   "cell_type": "code",
   "execution_count": 24,
   "id": "bfb0c1a2-cd9d-4a4f-842c-4c0b28eeb979",
   "metadata": {},
   "outputs": [
    {
     "name": "stdout",
     "output_type": "stream",
     "text": [
      "False\n",
      "True\n",
      "True\n",
      "False\n"
     ]
    }
   ],
   "source": [
    "find = \"Eka\"\n",
    "daftarMahasiswa = \"Andi\",\"Budi\",\"Citra\",\"Dewi\"\n",
    "print(find in daftarMahasiswa)\n",
    "print(find not in daftarMahasiswa)\n",
    "\n",
    "find = \"Python\"\n",
    "Kalimat = \"Saya suka Belajar Python\"\n",
    "print(find in Kalimat)\n",
    "print(find not in Kalimat)"
   ]
  },
  {
   "cell_type": "markdown",
   "id": "e86a3a4e-ffcc-4b9d-b128-680f71f1fe92",
   "metadata": {},
   "source": [
    "<h>Operator Indentitas</h>"
   ]
  },
  {
   "cell_type": "code",
   "execution_count": 31,
   "id": "0ef6ec00-13cf-4b5e-b5ad-484719241f9c",
   "metadata": {},
   "outputs": [
    {
     "name": "stdout",
     "output_type": "stream",
     "text": [
      "Apakah x dan y variabel yang sama: True\n",
      "list1 is list2: False\n",
      "list1 is not list2: True\n"
     ]
    }
   ],
   "source": [
    "x = 5\n",
    "y = 5\n",
    "\n",
    "hasil = x is y\n",
    "print (\"Apakah x dan y variabel yang sama:\",x is y)\n",
    "\n",
    "list1 = [4,5,6]\n",
    "list2 = [4,5,6]\n",
    "\n",
    "print(\"list1 is list2:\",list1 is list2)\n",
    "print(\"list1 is not list2:\",list1 is not list2)\n",
    "\n"
   ]
  },
  {
   "cell_type": "markdown",
   "id": "515abea8-811d-4a05-bdc6-4030a3ebf255",
   "metadata": {},
   "source": [
    "<h>Operator Ternary</h>"
   ]
  },
  {
   "cell_type": "code",
   "execution_count": 32,
   "id": "aaab1ed0-62d4-43af-b010-b6f73ab038c7",
   "metadata": {},
   "outputs": [
    {
     "name": "stdin",
     "output_type": "stream",
     "text": [
      "masukan nilai x : 78\n"
     ]
    },
    {
     "name": "stdout",
     "output_type": "stream",
     "text": [
      "bilangan x lebih kecil dari 100\n"
     ]
    }
   ],
   "source": [
    "x = int(input(\"masukan nilai x :\"))\n",
    "y = 100\n",
    "isHigher = \"bilangan x lebih besar dari 100\" if x > y else \"bilangan x lebih kecil dari 100\"\n",
    "print(isHigher)"
   ]
  },
  {
   "cell_type": "code",
   "execution_count": 34,
   "id": "680950bd-de19-49d2-af3a-edb6049318de",
   "metadata": {},
   "outputs": [
    {
     "name": "stdin",
     "output_type": "stream",
     "text": [
      "masukan nilai matkul : 76\n"
     ]
    },
    {
     "name": "stdout",
     "output_type": "stream",
     "text": [
      "lulus\n"
     ]
    }
   ],
   "source": [
    "x = int(input(\"masukan nilai matkul :\"))\n",
    "y = 76\n",
    "isPass = \"lulus\" if x >= y else \"tidak lulus\"\n",
    "print(isPass)"
   ]
  },
  {
   "cell_type": "code",
   "execution_count": null,
   "id": "5fdba03d-93a8-4cae-8c0f-436fec863a52",
   "metadata": {},
   "outputs": [],
   "source": []
  }
 ],
 "metadata": {
  "kernelspec": {
   "display_name": "Python 3 (ipykernel)",
   "language": "python",
   "name": "python3"
  },
  "language_info": {
   "codemirror_mode": {
    "name": "ipython",
    "version": 3
   },
   "file_extension": ".py",
   "mimetype": "text/x-python",
   "name": "python",
   "nbconvert_exporter": "python",
   "pygments_lexer": "ipython3",
   "version": "3.12.9"
  }
 },
 "nbformat": 4,
 "nbformat_minor": 5
}
