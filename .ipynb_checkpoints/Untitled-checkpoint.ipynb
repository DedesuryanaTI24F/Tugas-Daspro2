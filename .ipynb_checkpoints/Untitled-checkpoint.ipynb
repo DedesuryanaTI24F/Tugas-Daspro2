{
 "cells": [
  {
   "cell_type": "code",
   "execution_count": 1,
   "id": "2d98f6c8-cf4f-4cec-82da-c1907494c290",
   "metadata": {},
   "outputs": [
    {
     "name": "stdin",
     "output_type": "stream",
     "text": [
      "Masukkan sebuah kalimat:  makan ayam\n"
     ]
    },
    {
     "name": "stdout",
     "output_type": "stream",
     "text": [
      "Jumlah karakter dalam kalimat: 10\n"
     ]
    }
   ],
   "source": [
    "#len\n",
    "teks = input(\"Masukkan sebuah kalimat: \")  \n",
    " \n",
    "jumlah_karakter = len(teks)  \n",
    " \n",
    "print(\"Jumlah karakter dalam kalimat:\", jumlah_karakter)  \n"
   ]
  },
  {
   "cell_type": "code",
   "execution_count": 3,
   "id": "31c254ad-ec87-44df-a546-55d8ab39a7a5",
   "metadata": {},
   "outputs": [
    {
     "name": "stdin",
     "output_type": "stream",
     "text": [
      "Masukkan sebuah kalimat:  jangan lupa mweing\n"
     ]
    },
    {
     "name": "stdout",
     "output_type": "stream",
     "text": [
      "Kalimat dalam huruf kapital: JANGAN LUPA MWEING\n"
     ]
    }
   ],
   "source": [
    "# upper\n",
    "teks = input(\"Masukkan sebuah kalimat: \")  \n",
    "\n",
    "teks_kapital = teks.upper()  \n",
    "\n",
    "print(\"Kalimat dalam huruf kapital:\", teks_kapital)  \n"
   ]
  },
  {
   "cell_type": "code",
   "execution_count": 4,
   "id": "f463fa66-42f5-4f13-8958-780d02fd196c",
   "metadata": {},
   "outputs": [
    {
     "name": "stdin",
     "output_type": "stream",
     "text": [
      "Masukkan sebuah kata:  MAKAN\n"
     ]
    },
    {
     "name": "stdout",
     "output_type": "stream",
     "text": [
      "Kata dalam huruf kecil: makan\n"
     ]
    }
   ],
   "source": [
    "# lower \n",
    "kata = input(\"Masukkan sebuah kata: \")  \n",
    "\n",
    "kata_kecil = kata.lower()  \n",
    " \n",
    "print(\"Kata dalam huruf kecil:\", kata_kecil)  "
   ]
  },
  {
   "cell_type": "code",
   "execution_count": 5,
   "id": "51dda300-a027-49d9-83f3-5f736df5779e",
   "metadata": {},
   "outputs": [
    {
     "name": "stdin",
     "output_type": "stream",
     "text": [
      "Masukkan sebuah kalimat:  MAKAN lama\n"
     ]
    },
    {
     "name": "stdout",
     "output_type": "stream",
     "text": [
      "Kalimat setelah diganti: MAKAN baru\n"
     ]
    }
   ],
   "source": [
    "# replace  \n",
    "kalimat = input(\"Masukkan sebuah kalimat: \")  \n",
    " \n",
    "kalimat_baru = kalimat.replace(\"lama\", \"baru\")  \n",
    " \n",
    "print(\"Kalimat setelah diganti:\", kalimat_baru)  "
   ]
  },
  {
   "cell_type": "code",
   "execution_count": 6,
   "id": "5212a025-6eb9-42a7-a02e-57fbd73ed7bd",
   "metadata": {},
   "outputs": [
    {
     "name": "stdin",
     "output_type": "stream",
     "text": [
      "Masukkan sebuah kalimat:  saya kamu dia kamu\n"
     ]
    },
    {
     "name": "stdout",
     "output_type": "stream",
     "text": [
      "Daftar kata: ['saya', 'kamu', 'dia', 'kamu']\n"
     ]
    }
   ],
   "source": [
    "# split  \n",
    "kalimat = input(\"Masukkan sebuah kalimat: \")  \n",
    " \n",
    "daftar_kata = kalimat.split()  \n",
    " \n",
    "print(\"Daftar kata:\", daftar_kata)  "
   ]
  },
  {
   "cell_type": "code",
   "execution_count": 7,
   "id": "b5a51425-47f7-4236-8c0d-482b79b59e17",
   "metadata": {},
   "outputs": [
    {
     "name": "stdin",
     "output_type": "stream",
     "text": [
      "Masukkan daftar kata (pisahkan dengan koma):  kata,makan,minum\n"
     ]
    },
    {
     "name": "stdout",
     "output_type": "stream",
     "text": [
      "Kalimat yang digabungkan: kata makan minum\n"
     ]
    }
   ],
   "source": [
    " #join \n",
    "daftar_kata = input(\"Masukkan daftar kata (pisahkan dengan koma): \")  \n",
    "\n",
    "daftar_kata = daftar_kata.split(\",\")  \n",
    " \n",
    "daftar_kata = [kata.strip() for kata in daftar_kata]  \n",
    "\n",
    "kalimat_gabungan = \" \".join(daftar_kata)  \n",
    " \n",
    "print(\"Kalimat yang digabungkan:\", kalimat_gabungan)  "
   ]
  },
  {
   "cell_type": "code",
   "execution_count": 8,
   "id": "61b3e4bd-01d6-4afa-8b88-cf3aa528ee67",
   "metadata": {},
   "outputs": [
    {
     "name": "stdin",
     "output_type": "stream",
     "text": [
      "Masukkan sebuah kalimat:  selamat bulan ramadan\n"
     ]
    },
    {
     "name": "stdout",
     "output_type": "stream",
     "text": [
      "Substring yang diambil: selam\n"
     ]
    }
   ],
   "source": [
    "# substring \n",
    "teks = input(\"Masukkan sebuah kalimat: \")  \n",
    "\n",
    "# Mengambil substring dari kalimat mulai dari indeks 0 hingga 5  \n",
    "substring = teks[0:5]  \n",
    "\n",
    "print(\"Substring yang diambil:\", substring)  "
   ]
  },
  {
   "cell_type": "code",
   "execution_count": null,
   "id": "d233c45b-d5bb-40d6-b042-14ad2f062b03",
   "metadata": {},
   "outputs": [],
   "source": []
  }
 ],
 "metadata": {
  "kernelspec": {
   "display_name": "Python 3 (ipykernel)",
   "language": "python",
   "name": "python3"
  },
  "language_info": {
   "codemirror_mode": {
    "name": "ipython",
    "version": 3
   },
   "file_extension": ".py",
   "mimetype": "text/x-python",
   "name": "python",
   "nbconvert_exporter": "python",
   "pygments_lexer": "ipython3",
   "version": "3.12.9"
  }
 },
 "nbformat": 4,
 "nbformat_minor": 5
}
