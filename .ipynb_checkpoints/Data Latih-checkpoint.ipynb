{
 "cells": [
  {
   "cell_type": "markdown",
   "id": "c6afc097-96ec-4b4c-b3a5-afd3470e48e4",
   "metadata": {},
   "source": [
    "<b>Project</b>\n",
    "Buatlah Data altih sederhana untuk klasifikasi data berdasarkan\n",
    "<ol>\n",
    "    <li>Usia : 18 - 60</li>\n",
    "    <li>Transaksi perbulan : 0-50</li>\n",
    "    <li>Label : Loyal , Tidak Loyal (1)</li>\n",
    "    <li>Gender</li>\n",
    "</ol>\n"
   ]
  },
  {
   "cell_type": "code",
   "execution_count": 3,
   "id": "0daf29b8-0e14-468f-81e2-56a0e93fd04c",
   "metadata": {},
   "outputs": [
    {
     "ename": "ModuleNotFoundError",
     "evalue": "No module named 'pandas'",
     "output_type": "error",
     "traceback": [
      "\u001b[1;31m---------------------------------------------------------------------------\u001b[0m",
      "\u001b[1;31mModuleNotFoundError\u001b[0m                       Traceback (most recent call last)",
      "Cell \u001b[1;32mIn[3], line 2\u001b[0m\n\u001b[0;32m      1\u001b[0m \u001b[38;5;28;01mimport\u001b[39;00m \u001b[38;5;21;01mnumpy\u001b[39;00m \u001b[38;5;28;01mas\u001b[39;00m \u001b[38;5;21;01mnp\u001b[39;00m\n\u001b[1;32m----> 2\u001b[0m \u001b[38;5;28;01mimport\u001b[39;00m \u001b[38;5;21;01mpandas\u001b[39;00m \u001b[38;5;28;01mas\u001b[39;00m \u001b[38;5;21;01mpd\u001b[39;00m\n\u001b[0;32m      4\u001b[0m n_data \u001b[38;5;241m=\u001b[39m \u001b[38;5;241m100\u001b[39m\n\u001b[0;32m      6\u001b[0m usia \u001b[38;5;241m=\u001b[39m np\u001b[38;5;241m.\u001b[39mrandom\u001b[38;5;241m.\u001b[39mrandint(\u001b[38;5;241m18\u001b[39m,\u001b[38;5;241m61\u001b[39m,size\u001b[38;5;241m=\u001b[39mn_data)\n",
      "\u001b[1;31mModuleNotFoundError\u001b[0m: No module named 'pandas'"
     ]
    }
   ],
   "source": [
    "import numpy as np\n",
    "import pandas as pd\n",
    "\n",
    "n_data = 100\n",
    "\n",
    "usia = np.random.randint(18,61,size=n_data)\n",
    "transaksi = np.random.randint(0,51, size=n_data)\n",
    "label = np.random.randint(0,2, size=n_data)\n",
    "gender = np.random.choice(['L','P',],size=n_data)\n",
    "\n",
    "df = pd.DataFrame({\n",
    "    'Usia' : usia,\n",
    "    'Transaksi' : transaksi,\n",
    "    'label' : label,\n",
    "    'Gender' : gender\n",
    "})\n",
    "\n",
    "df.to_csv('datalatih.csv',index=False)\n",
    "df.head #mengetahui 5 baris petama dari isi dataframe\n",
    "\n"
   ]
  },
  {
   "cell_type": "code",
   "execution_count": null,
   "id": "748acbd2-8049-44c5-921d-d5fbd24b5baa",
   "metadata": {},
   "outputs": [],
   "source": []
  }
 ],
 "metadata": {
  "kernelspec": {
   "display_name": "Python 3 (ipykernel)",
   "language": "python",
   "name": "python3"
  },
  "language_info": {
   "codemirror_mode": {
    "name": "ipython",
    "version": 3
   },
   "file_extension": ".py",
   "mimetype": "text/x-python",
   "name": "python",
   "nbconvert_exporter": "python",
   "pygments_lexer": "ipython3",
   "version": "3.12.9"
  }
 },
 "nbformat": 4,
 "nbformat_minor": 5
}
