{
 "cells": [
  {
   "cell_type": "markdown",
   "id": "a13382e4-1c3f-4741-bb9e-f89f244bc5b5",
   "metadata": {},
   "source": [
    "<h>Percabangan<h\\>"
   ]
  },
  {
   "cell_type": "code",
   "execution_count": 19,
   "id": "f18383c9-1ca0-4cc9-8810-75a0e81cdb1f",
   "metadata": {},
   "outputs": [
    {
     "name": "stdin",
     "output_type": "stream",
     "text": [
      "Isikan Umur Anda 76\n"
     ]
    },
    {
     "name": "stdout",
     "output_type": "stream",
     "text": [
      "Kategori : Lansia\n"
     ]
    }
   ],
   "source": [
    "usia = int(input(\"Isikan Umur Anda\"))\n",
    "if usia >59:\n",
    "    print(\"Kategori : Lansia\")\n",
    "elif usia >17:\n",
    "    print(\"Kategori : Dewasa\")\n",
    "elif usia >12:\n",
    "    print(\"Kategori : Remaja\")\n",
    "else:\n",
    "    print(\"Kategori : Anak\")\n",
    "\n",
    "           "
   ]
  },
  {
   "cell_type": "code",
   "execution_count": 35,
   "id": "5729bf2b-b3ce-4185-b301-c4f48f6aefde",
   "metadata": {},
   "outputs": [
    {
     "name": "stdin",
     "output_type": "stream",
     "text": [
      "Isikan umur Tiket 1 : 78\n",
      "Isikan umur Tiket 2 : 87\n",
      "Isikan umur Tiket 3 : 98\n"
     ]
    },
    {
     "name": "stdout",
     "output_type": "stream",
     "text": [
      "Gratis\n",
      "totalBiaya : {totalBiaya}\n",
      "Gratis\n",
      "totalBiaya : {totalBiaya}\n",
      "Gratis\n",
      "totalBiaya : {totalBiaya}\n"
     ]
    }
   ],
   "source": [
    "tiket1 = int(input(\"Isikan umur Tiket 1 :\"))\n",
    "tiket2 = int(input(\"Isikan umur Tiket 2 :\"))\n",
    "tiket3 = int(input(\"Isikan umur Tiket 3 :\"))\n",
    "\n",
    "totalBiaya = 0\n",
    "if tiket1 <13:\n",
    "    print(\"tiket 1 : 10000\")\n",
    "    totalBiaya = totalBiaya + 10000\n",
    "elif tiket2 <18:\n",
    "    print(\"tiket 1 : 15000\")\n",
    "    totalBiaya = totalBiaya + 15000\n",
    "elif tiket3 <60:\n",
    "    print(\"tiket 1 : 25000\")\n",
    "    totalBiaya = totalBiaya + 25000\n",
    "else:\n",
    "    print(\"Gratis\")\n",
    "\n",
    "print(\"totalBiaya : {totalBiaya}\")\n",
    "\n",
    "###############\n",
    "totalBiaya = 0\n",
    "if tiket2 <13:\n",
    "    print(\"tiket 2 : 10000\")\n",
    "    totalBiaya = totalBiaya + 10000\n",
    "elif tiket2 <18:\n",
    "    print(\"tiket 2 : 15000\")\n",
    "    totalBiaya = totalBiaya + 15000\n",
    "elif tiket3 <60:\n",
    "    print(\"tiket 2 : 25000\")\n",
    "    totalBiaya = totalBiaya + 25000\n",
    "else:\n",
    "    print(\"Gratis\")\n",
    "\n",
    "print(\"totalBiaya : {totalBiaya}\")\n",
    "\n",
    "#################\n",
    "totalBiaya = 0\n",
    "if tiket3 <13:\n",
    "    print(\"tiket 3 : 10000\")\n",
    "    totalBiaya = totalBiaya + 10000\n",
    "elif tiket2 <18:\n",
    "    print(\"tiket 3 : 15000\")\n",
    "    totalBiaya = totalBiaya + 15000\n",
    "elif tiket3 <60:\n",
    "    print(\"tiket 3 : 25000\")\n",
    "    totalBiaya = totalBiaya + 25000\n",
    "else:\n",
    "    print(\"Gratis\")\n",
    "\n",
    "print(\"totalBiaya : {totalBiaya}\")"
   ]
  },
  {
   "cell_type": "code",
   "execution_count": 36,
   "id": "ce28d06e-6005-4677-a8d1-4a8cf50f162e",
   "metadata": {},
   "outputs": [
    {
     "name": "stdin",
     "output_type": "stream",
     "text": [
      "Isikan Nilai Rapor : 78\n",
      "Isikan Penghasilan Ortu : 5000000\n"
     ]
    },
    {
     "name": "stdout",
     "output_type": "stream",
     "text": [
      "Tidak mendapakan Beasiswa\n"
     ]
    }
   ],
   "source": [
    "nilaiRapor = int(input(\"Isikan Nilai Rapor :\"))\n",
    "Penghasilan = int(input(\"Isikan Penghasilan Ortu :\"))\n",
    "\n",
    "if nilaiRapor >= 90 and Penghasilan <5000000:\n",
    "    print(\"Mendapatkan Beasiswa\")\n",
    "elif nilaiRapor >=85 and Penghasilan <8000000:\n",
    "    print(\"Mendapatkan Beasiswa 50%\")\n",
    "else:\n",
    "    print(\"Tidak mendapakan Beasiswa\")  "
   ]
  },
  {
   "cell_type": "code",
   "execution_count": 50,
   "id": "36e0f4dc-0b8d-4adc-af3e-ac7e6a80b395",
   "metadata": {},
   "outputs": [
    {
     "name": "stdin",
     "output_type": "stream",
     "text": [
      "Isikan motor/mobil mobil\n",
      "Jam Masuk 3\n",
      "Jam Keluar 9\n"
     ]
    },
    {
     "name": "stdout",
     "output_type": "stream",
     "text": [
      "Tarif mobil : 5000\n",
      "Lama Parkir :6 jam\n",
      "Tamabahan Biaya Lebih 5 jam :10000\n",
      "Tital tarif Parkir:40000\n"
     ]
    }
   ],
   "source": [
    "jenisKendaraan = input(\"Isikan motor/mobil\")\n",
    "jamMasuk = int(input(\"Jam Masuk\"))\n",
    "jamKeluar = int(input(\"Jam Keluar\"))\n",
    "\n",
    "tarifPerjam = 0\n",
    "if jenisKendaraan == \"motor\":\n",
    "    tarifPerjam = 2000\n",
    "elif jenisKendaraan == \"mobil\":\n",
    "    tarifPerjam = 5000\n",
    "else:\n",
    "    print(\"Tidak Menerima Selain Mobil dan Motor\")\n",
    "\n",
    "if jamMasuk >= jamKeluar:\n",
    "    print(\"input jam Masuk/Keluar Salah\")\n",
    "else :\n",
    "    totalTarif = (jamKeluar - jamMasuk) * tarifPerjam\n",
    "\n",
    "print(f\"Tarif {jenisKendaraan} : {tarifPerjam}\")\n",
    "print(f\"Lama Parkir :{jamKeluar-jamMasuk} jam\")\n",
    "\n",
    "if jamKeluar - jamMasuk >5:\n",
    "    totalTarif += 10000\n",
    "print(f\"Tamabahan Biaya Lebih 5 jam :10000\")\n",
    "print(f\"Tital tarif Parkir:{totalTarif}\")"
   ]
  },
  {
   "cell_type": "code",
   "execution_count": 51,
   "id": "e590995b-0829-4017-ae76-9a09d8b52a1c",
   "metadata": {},
   "outputs": [
    {
     "name": "stdin",
     "output_type": "stream",
     "text": [
      "NomorPunggung 12\n"
     ]
    },
    {
     "name": "stdout",
     "output_type": "stream",
     "text": [
      "Kamu mempunyai pilihan posisi : Target Attacker\n"
     ]
    }
   ],
   "source": [
    "nomorPunggung = int(input(\"NomorPunggung\"))\n",
    "posisi = \"\"\n",
    "if nomorPunggung % 2 ==0:\n",
    "    posisi += \"Target Attacker\"\n",
    "    if nomorPunggung >=50 and nomorPunggung <=100:\n",
    "        posisi += \"Berhak Dipilih Menjadi Kapten,\"\n",
    "else:\n",
    "    posisi += \"Defender,\"\n",
    "    if nomorPunggung >90:\n",
    "        posisi += \"Playmaker,\"\n",
    "    if nomorPunggung % 3 == 0 and nomorPunggung % 5 ==0:\n",
    "        posisi += \"Keeper\"\n",
    "print(f\"Kamu mempunyai pilihan posisi : {posisi}\")"
   ]
  },
  {
   "cell_type": "markdown",
   "id": "1b24734a-c140-45bd-8d66-32212d9573ea",
   "metadata": {},
   "source": [
    "<h>TugasPercabangan<h/>"
   ]
  },
  {
   "cell_type": "code",
   "execution_count": 76,
   "id": "8e4b97e2-4e1e-44b3-bb95-192aeb5c6a32",
   "metadata": {},
   "outputs": [
    {
     "name": "stdin",
     "output_type": "stream",
     "text": [
      "Isikan Nilai Coding :  89\n",
      "Isikan Nilai Interview : A\n"
     ]
    },
    {
     "name": "stdout",
     "output_type": "stream",
     "text": [
      "Selamat, Kamu berhasil menjadi calon programer\n"
     ]
    }
   ],
   "source": [
    "nilaiCoding = int(input(\"Isikan Nilai Coding : \"))\n",
    "nilaiInterview = input(\"Isikan Nilai Interview :\")\n",
    "hasilCoding = \"\"\n",
    "hasilInterview = \"\"\n",
    "\n",
    "if nilaiCoding >80:\n",
    "    hasilCoding = \"LOLOS\"\n",
    "elif nilaiCoding >60:\n",
    "    hasilCoding = \"Dipertimbangkan\"\n",
    "else:\n",
    "    hasilCoding = \"Gagal\"\n",
    "\n",
    "if nilaiInterview == \"A\" or nilaiInterview == \"B\": \n",
    "    hasilInterview = \"LOLOS\"\n",
    "else:\n",
    "    hasilInterview = \"GAGAL\"\n",
    "    \n",
    "if(hasilCoding == \"LOLOS\" or hasilCoding == \"Dipertimbangkan\") and hasilInterview == \"LOLOS\":\n",
    "    print(\"Selamat, Kamu berhasil menjadi calon programer\")\n",
    "else:\n",
    "    print(\"Maaf, Kamu belum berhasil menjadi calon pemrogramer\")\n"
   ]
  },
  {
   "cell_type": "code",
   "execution_count": null,
   "id": "78a5eb8d-8a55-4900-abd4-8889a574aa6a",
   "metadata": {},
   "outputs": [],
   "source": []
  }
 ],
 "metadata": {
  "kernelspec": {
   "display_name": "Python 3 (ipykernel)",
   "language": "python",
   "name": "python3"
  },
  "language_info": {
   "codemirror_mode": {
    "name": "ipython",
    "version": 3
   },
   "file_extension": ".py",
   "mimetype": "text/x-python",
   "name": "python",
   "nbconvert_exporter": "python",
   "pygments_lexer": "ipython3",
   "version": "3.12.9"
  }
 },
 "nbformat": 4,
 "nbformat_minor": 5
}
