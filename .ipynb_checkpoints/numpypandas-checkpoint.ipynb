{
 "cells": [
  {
   "cell_type": "code",
   "execution_count": 7,
   "id": "2c49155f-8210-4daa-b1f8-ce5a1ee2fd85",
   "metadata": {},
   "outputs": [],
   "source": [
    "import numpy as np\n",
    "import pandas as pd"
   ]
  },
  {
   "cell_type": "code",
   "execution_count": 8,
   "id": "7ad92595-2d6d-4c2e-9ef3-8dec28d52072",
   "metadata": {},
   "outputs": [],
   "source": [
    "n_data = 10000\n",
    "\n",
    "jenis_makanan = np.random.choice(['Makanan Berat', 'Makanan Ringan'], size=n_data)\n",
    "makanan_favorit = np.random.choice(['Nasi Goreng', 'Sate', 'Gado-Gado', 'Soto'], size=n_data)\n",
    "minuman_favorit = np.random.choice(['Es Teh', 'Kopi', 'Jus Jeruk', 'Soda'], size=n_data)\n",
    "cita_rasa = np.random.choice(['Manis', 'Asin', 'Pedas', 'Asam'], size=n_data)\n",
    "makanan_pagi = np.random.choice(['Sarapan', 'Makan Siang', 'Makan Malam'], size=n_data)\n",
    "makanan_siang = np.random.choice(['Nasi Goreng', 'Gado-Gado', 'Sate', 'Soto'], size=n_data)\n",
    "makanan_malam = np.random.choice(['Sate', 'Gado-Gado', 'Nasi Goreng', 'Soto'], size=n_data)\n",
    "makanan_junkfood = np.random.choice(['Kentang Goreng', 'Pizza', 'Burger', 'Hot Dog'], size=n_data)\n",
    "makanan_sehat = np.random.choice(['Buah', 'Sayur', 'Ikan', 'Daging'], size=n_data)\n",
    "\n",
    "df = pd.DataFrame({\n",
    "    'Jenis Makanan' : jenis_makanan,\n",
    "    'Makanan Favorit' : makanan_favorit,\n",
    "    'Minuman Favorit' : minuman_favorit,\n",
    "    'Cita Rasa' : cita_rasa,\n",
    "    'Makanan Pagi' : makanan_pagi,\n",
    "    'Makanan Siang' : makanan_siang,\n",
    "    'Makanan Malam' : makanan_malam,\n",
    "    'Makanan Junkfood' : makanan_junkfood,\n",
    "    'Makanan Sehat' : makanan_sehat\n",
    "})\n",
    "\n",
    "df.to_csv('numpypandas_Makanan.csv', index=False)\n"
   ]
  },
  {
   "cell_type": "code",
   "execution_count": null,
   "id": "12005604-8a11-40c5-a119-cc65524f04ab",
   "metadata": {},
   "outputs": [],
   "source": []
  }
 ],
 "metadata": {
  "kernelspec": {
   "display_name": "Python 3 (ipykernel)",
   "language": "python",
   "name": "python3"
  },
  "language_info": {
   "codemirror_mode": {
    "name": "ipython",
    "version": 3
   },
   "file_extension": ".py",
   "mimetype": "text/x-python",
   "name": "python",
   "nbconvert_exporter": "python",
   "pygments_lexer": "ipython3",
   "version": "3.12.9"
  }
 },
 "nbformat": 4,
 "nbformat_minor": 5
}
