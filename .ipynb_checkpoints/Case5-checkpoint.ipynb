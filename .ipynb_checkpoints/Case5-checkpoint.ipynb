{
 "cells": [
  {
   "cell_type": "markdown",
   "id": "cfbf1071-bfdd-45b4-9102-774f7df246fa",
   "metadata": {},
   "source": [
    "<h1>Biodata Pribadi</h>"
   ]
  },
  {
   "cell_type": "code",
   "execution_count": 12,
   "id": "76ce0b11-c36d-4d6a-aa4d-0dbca7ce63aa",
   "metadata": {},
   "outputs": [
    {
     "name": "stdin",
     "output_type": "stream",
     "text": [
      "Masukkan nama anda Desur\n",
      "Masukkan nama kelas TI24F\n",
      "Masukkan fakultas TI\n",
      "Masukkan nim 20240040065\n",
      "Masukan semester 2\n"
     ]
    },
    {
     "name": "stdout",
     "output_type": "stream",
     "text": [
      "\n",
      "BIODATA\n",
      " Nama :Desur\n",
      " Kelas :TI24F\n",
      " Fakultas : TI\n",
      " NIM :20240040065\n",
      " Semester : 2\n"
     ]
    }
   ],
   "source": [
    "nama = input(\"Masukkan nama anda\")\n",
    "kelas = input(\"Masukkan nama kelas\")\n",
    "fakultas = input(\"Masukkan fakultas\")\n",
    "nim = int(input(\"Masukkan nim\"))\n",
    "semester = int(input(\"Masukan semester\"))\n",
    "\n",
    "print(f\"\\nBIODATA\\n Nama :{nama}\\n Kelas :{kelas}\\n Fakultas : {fakultas}\\n NIM :{nim}\\n Semester : {semester}\")"
   ]
  },
  {
   "cell_type": "code",
   "execution_count": 11,
   "id": "4a4976a7-4e82-42f1-84be-11cb43eb8b6f",
   "metadata": {},
   "outputs": [
    {
     "name": "stdout",
     "output_type": "stream",
     "text": [
      "a. putra nusa\n",
      "b. NIVERSITAS NSA PTRA SKABMI\n",
      "c. SUKABUMI NUSA PUTRA UNIVERSITAS\n",
      "d. UNPS\n",
      "e. TAS SAPU BUMI\n"
     ]
    }
   ],
   "source": [
    "kalimat = \"UNIVERSITAS NUSA PUTRA SUKABUMI\"\n",
    "if kalimat == \"UNIVERSITAS NUSA PUTRA SUKABUMI\":\n",
    "    splitAndLower = kalimat.split(\" \")\n",
    "    splitAndLower = splitAndLower[1:3]\n",
    "    splitAndLower [0],splitAndLower[1] = splitAndLower[1],splitAndLower[0]\n",
    "    splitAndLower = \" \".join(splitAndLower)\n",
    "    splitAndLower = splitAndLower.lower()\n",
    "    #############################################################\n",
    "    replaceU = kalimat.replace(\"U\", \"\")\n",
    "    #############################################################\n",
    "    threeToOne = kalimat.split(\" \")\n",
    "    threeToOne[0],threeToOne[3]  = threeToOne[3],threeToOne[0]\n",
    "    threeToOne = \" \".join(threeToOne)\n",
    "    #############################################################\n",
    "    firstLetter = kalimat.split(\" \")\n",
    "    firstLetter = firstLetter[0][0], firstLetter[1][0], firstLetter[2][0], firstLetter[3][0]\n",
    "    firstLetter = \"\".join(firstLetter)\n",
    "    #############################################################\n",
    "    splice = kalimat[8:11], kalimat[14:19], kalimat[27:31]\n",
    "    splice = splice[0], splice[1].replace(\" \",\"\"), splice[2]\n",
    "    splice = \" \".join(splice)\n",
    "    #############################################################\n",
    "    print(\"a.\",splitAndLower)\n",
    "    print(\"b.\",replaceU)\n",
    "    print(\"c.\",threeToOne)\n",
    "    print(\"d.\",firstLetter)\n",
    "    print(\"e.\",splice)"
   ]
  },
  {
   "cell_type": "code",
   "execution_count": null,
   "id": "1cb317b3-5df1-4465-9fc6-95275d505ec8",
   "metadata": {},
   "outputs": [],
   "source": []
  },
  {
   "cell_type": "code",
   "execution_count": null,
   "id": "e8d872b0-a703-48d5-9f46-0d8e902f35be",
   "metadata": {},
   "outputs": [],
   "source": []
  }
 ],
 "metadata": {
  "kernelspec": {
   "display_name": "Python 3 (ipykernel)",
   "language": "python",
   "name": "python3"
  },
  "language_info": {
   "codemirror_mode": {
    "name": "ipython",
    "version": 3
   },
   "file_extension": ".py",
   "mimetype": "text/x-python",
   "name": "python",
   "nbconvert_exporter": "python",
   "pygments_lexer": "ipython3",
   "version": "3.12.9"
  }
 },
 "nbformat": 4,
 "nbformat_minor": 5
}
