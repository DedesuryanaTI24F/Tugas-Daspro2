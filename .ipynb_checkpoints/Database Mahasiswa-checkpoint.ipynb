{
 "cells": [
  {
   "cell_type": "code",
   "execution_count": 10,
   "id": "7625565c-16a7-4f03-b9f8-d623eaaaab5b",
   "metadata": {},
   "outputs": [],
   "source": [
    "datalist = {}"
   ]
  },
  {
   "cell_type": "code",
   "execution_count": 11,
   "id": "2354a969-671f-4cf2-aa65-24e6e5fc4a8d",
   "metadata": {},
   "outputs": [],
   "source": [
    "def addStudent():\n",
    "    id_student = int(input(\"Masukkan ID Mahasiswa:\"))\n",
    "    name_student = input(\"Masukkan Nama Mahasiswa:\")\n",
    "    major_student = input(\"Masukkan Prodi Mahasiswa:\")\n",
    "    IPK_student = float(input(\"Masukkan IPK Mahasiswa:\"))\n",
    "    temp = []\n",
    "    temp.append(name_student)\n",
    "    temp.append(major_student)\n",
    "    temp.append(IPK_student)\n",
    "    temp = tuple(temp)\n",
    "    datalist[id_student] = temp"
   ]
  },
  {
   "cell_type": "code",
   "execution_count": 12,
   "id": "26ed1cdb-fbf6-42b5-951b-01180f01a15b",
   "metadata": {},
   "outputs": [],
   "source": [
    "def readStudent():\n",
    "    print(datalist)"
   ]
  },
  {
   "cell_type": "code",
   "execution_count": 13,
   "id": "9096afae-072a-4c3d-b890-52115183458b",
   "metadata": {},
   "outputs": [],
   "source": [
    "def findStudent():\n",
    "    id_student = int(input(\"Masukkan ID Mahasiswa yang akan dicari:\"))\n",
    "    if id_student in datalist:\n",
    "        print(datalist[id_student])\n",
    "    else:\n",
    "        print(\"Mahasiswa tidak ditemukan\")"
   ]
  },
  {
   "cell_type": "code",
   "execution_count": 14,
   "id": "c8e376d3-6aa7-4f45-babd-5ba9a1ec0480",
   "metadata": {},
   "outputs": [],
   "source": [
    "def updateIPKStudent():\n",
    "    id_student = int(input(\"Masukkan ID Mahasiswa yang akan di update IPK:\"))\n",
    "    update_IPK = float(input(\"Masukkan IPK yang terbaru:\"))\n",
    "    temp = list(datalist[id_student])\n",
    "    temp[2] = update_IPK\n",
    "    temp = tuple(temp)\n",
    "    datalist[id_student] = temp"
   ]
  },
  {
   "cell_type": "code",
   "execution_count": 15,
   "id": "95dc2967-4aec-43d3-96d9-5311239bb4be",
   "metadata": {},
   "outputs": [],
   "source": [
    "def delStudent():\n",
    "    id_student = int(input(\"Masukkan ID Mahasiswa yang akan dihapus:\"))\n",
    "    del datalist[id_student]"
   ]
  },
  {
   "cell_type": "code",
   "execution_count": 16,
   "id": "b45c0f7b-6d6f-4a82-8a3f-cc729ebaa5ca",
   "metadata": {},
   "outputs": [
    {
     "name": "stdout",
     "output_type": "stream",
     "text": [
      "---Menu--- \n",
      "\n",
      "1.Tambahkan Mahasiswa \n",
      "2.Tampilkan Seluruh Mahasiswa \n",
      "3.Cari Mahasiswa \n",
      "4.Update IPK Mahasiswa \n",
      "5.Hapus Mahasiswa \n",
      "6.Keluar\n"
     ]
    },
    {
     "name": "stdin",
     "output_type": "stream",
     "text": [
      " 1\n",
      "Masukkan ID Mahasiswa: 20240040065\n",
      "Masukkan Nama Mahasiswa: desur\n",
      "Masukkan Prodi Mahasiswa: ti\n",
      "Masukkan IPK Mahasiswa: 3.89\n"
     ]
    },
    {
     "name": "stdout",
     "output_type": "stream",
     "text": [
      "---Menu--- \n",
      "\n",
      "1.Tambahkan Mahasiswa \n",
      "2.Tampilkan Seluruh Mahasiswa \n",
      "3.Cari Mahasiswa \n",
      "4.Update IPK Mahasiswa \n",
      "5.Hapus Mahasiswa \n",
      "6.Keluar\n"
     ]
    },
    {
     "name": "stdin",
     "output_type": "stream",
     "text": [
      " 2\n"
     ]
    },
    {
     "name": "stdout",
     "output_type": "stream",
     "text": [
      "{20240040065: ('desur', 'ti', 3.89)}\n",
      "---Menu--- \n",
      "\n",
      "1.Tambahkan Mahasiswa \n",
      "2.Tampilkan Seluruh Mahasiswa \n",
      "3.Cari Mahasiswa \n",
      "4.Update IPK Mahasiswa \n",
      "5.Hapus Mahasiswa \n",
      "6.Keluar\n"
     ]
    },
    {
     "name": "stdin",
     "output_type": "stream",
     "text": [
      " 3\n",
      "Masukkan ID Mahasiswa yang akan dicari: 20240040065\n"
     ]
    },
    {
     "name": "stdout",
     "output_type": "stream",
     "text": [
      "('desur', 'ti', 3.89)\n",
      "---Menu--- \n",
      "\n",
      "1.Tambahkan Mahasiswa \n",
      "2.Tampilkan Seluruh Mahasiswa \n",
      "3.Cari Mahasiswa \n",
      "4.Update IPK Mahasiswa \n",
      "5.Hapus Mahasiswa \n",
      "6.Keluar\n"
     ]
    },
    {
     "name": "stdin",
     "output_type": "stream",
     "text": [
      " 6\n"
     ]
    }
   ],
   "source": [
    "i = True\n",
    "while i is True:\n",
    "    print(\"---Menu--- \\n\\n1.Tambahkan Mahasiswa \\n2.Tampilkan Seluruh Mahasiswa \\n3.Cari Mahasiswa \\n4.Update IPK Mahasiswa \\n5.Hapus Mahasiswa \\n6.Keluar\")\n",
    "    pilihan = int(input())\n",
    "    \n",
    "    if pilihan == 1:\n",
    "        addStudent()\n",
    "    \n",
    "    elif pilihan == 2:\n",
    "        readStudent()\n",
    "    \n",
    "    elif pilihan == 3:\n",
    "        findStudent()\n",
    "    \n",
    "    elif pilihan == 4:\n",
    "        updateIPKStudent()\n",
    "    \n",
    "    elif pilihan == 5:\n",
    "        delStudent()\n",
    "    \n",
    "    elif pilihan == 6:\n",
    "        i = False\n",
    "    else:\n",
    "        print(\"Masukan angka yang ada di menu (1-6)\")"
   ]
  },
  {
   "cell_type": "code",
   "execution_count": null,
   "id": "24f14476-6ae4-4c51-8479-3949fa133983",
   "metadata": {},
   "outputs": [],
   "source": []
  }
 ],
 "metadata": {
  "kernelspec": {
   "display_name": "Python 3 (ipykernel)",
   "language": "python",
   "name": "python3"
  },
  "language_info": {
   "codemirror_mode": {
    "name": "ipython",
    "version": 3
   },
   "file_extension": ".py",
   "mimetype": "text/x-python",
   "name": "python",
   "nbconvert_exporter": "python",
   "pygments_lexer": "ipython3",
   "version": "3.12.9"
  }
 },
 "nbformat": 4,
 "nbformat_minor": 5
}
