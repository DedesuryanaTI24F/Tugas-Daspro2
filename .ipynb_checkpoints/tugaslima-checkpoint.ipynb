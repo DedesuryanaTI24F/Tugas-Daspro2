{
 "cells": [
  {
   "cell_type": "code",
   "execution_count": 1,
   "id": "efd66e2f-a5fc-4411-9e14-399a9bb211cc",
   "metadata": {},
   "outputs": [
    {
     "name": "stdout",
     "output_type": "stream",
     "text": [
      "Budi bisa bermain di luar.\n"
     ]
    }
   ],
   "source": [
    "# Kondisi cuaca dan PR  \n",
    "cuaca_cerah = True  # Ganti dengan False jika cuaca tidak cerah  \n",
    "pr_selesai = True    # Ganti dengan False jika PR belum selesai  \n",
    "\n",
    "# Mengevaluasi apakah Budi bisa bermain  \n",
    "budi_bisa_bermain = cuaca_cerah and pr_selesai  \n",
    "\n",
    "# Menggunakan struktur if untuk memberikan output  \n",
    "if budi_bisa_bermain:  \n",
    "    print(\"Budi bisa bermain di luar.\")  \n",
    "else:  \n",
    "    print(\"Budi tidak bisa bermain di luar.\") "
   ]
  },
  {
   "cell_type": "code",
   "execution_count": 2,
   "id": "4c531178-d533-4900-89ad-35150bc5f05a",
   "metadata": {},
   "outputs": [
    {
     "name": "stdout",
     "output_type": "stream",
     "text": [
      "Budi bisa bermain di luar.\n"
     ]
    }
   ],
   "source": [
    "# Kondisi cuaca dan PR  \n",
    "cuaca_cerah = True  # Ganti dengan False jika cuaca tidak cerah  \n",
    "pr_selesai = True    # Ganti dengan False jika PR belum selesai  \n",
    "\n",
    "# Mengevaluasi apakah Budi bisa bermain dan langsung mencetak hasilnya  \n",
    "print(\"Budi bisa bermain di luar.\" if (cuaca_cerah and pr_selesai) else \"Budi tidak bisa bermain di luar.\")"
   ]
  },
  {
   "cell_type": "code",
   "execution_count": 1,
   "id": "6f850dba-a532-4a63-b7bf-98c7130eb79b",
   "metadata": {},
   "outputs": [
    {
     "name": "stdout",
     "output_type": "stream",
     "text": [
      "Dibawah ini adalah contoh sederhana dari sebuah string pada bahasa pemrograman Python.\n"
     ]
    },
    {
     "name": "stdin",
     "output_type": "stream",
     "text": [
      "Masukkan nama Anda:  dsur\n"
     ]
    },
    {
     "name": "stdout",
     "output_type": "stream",
     "text": [
      "Halo, dsur! Selamat datang di dunia Python.\n"
     ]
    }
   ],
   "source": [
    "def main():  \n",
    "    # Menampilkan pesan ke pengguna  \n",
    "    print(\"Dibawah ini adalah contoh sederhana dari sebuah string pada bahasa pemrograman Python.\")  \n",
    "    \n",
    "    # Meminta input dari pengguna  \n",
    "    nama = input(\"Masukkan nama Anda: \")  \n",
    "    \n",
    "    # Menampilkan kembali input pengguna  \n",
    "    print(\"Halo, \" + nama + \"! Selamat datang di dunia Python.\")  \n",
    "\n",
    "# Menjalankan fungsi utama  \n",
    "if __name__ == \"__main__\":  \n",
    "    main()  "
   ]
  },
  {
   "cell_type": "code",
   "execution_count": 2,
   "id": "fe86c8a6-13a1-41b0-8b6b-96c6a12e4295",
   "metadata": {},
   "outputs": [
    {
     "name": "stdout",
     "output_type": "stream",
     "text": [
      "1. Panjang kalimat: 32 karakter\n",
      "2. Kalimat dalam huruf kapital: BELAJAR PYTHON ITU MENYENANGKAN!\n",
      "3. Kalimat dalam huruf kecil: belajar python itu menyenangkan!\n",
      "4. Kalimat setelah penggantian: Belajar Python itu seru!\n",
      "5. Daftar kata: ['Belajar', 'Python', 'itu', 'menyenangkan!']\n",
      "6. Menggabungkan kembali ke string: Belajar Python itu menyenangkan!\n",
      "7. Substring: 'Python'\n"
     ]
    }
   ],
   "source": [
    "def string_operations():  \n",
    "    # 1. Mendefinisikan string  \n",
    "    kalimat = \"Belajar Python itu menyenangkan!\"  \n",
    "\n",
    "    # 2. Menghitung panjang string  \n",
    "    panjang = len(kalimat)  \n",
    "    print(f\"1. Panjang kalimat: {panjang} karakter\")  \n",
    "\n",
    "    # 3. Mengubah string menjadi huruf kapital  \n",
    "    huruf_kapital = kalimat.upper()  \n",
    "    print(f\"2. Kalimat dalam huruf kapital: {huruf_kapital}\")  \n",
    "\n",
    "    # 4. Mengubah string menjadi huruf kecil  \n",
    "    huruf_kecil = kalimat.lower()  \n",
    "    print(f\"3. Kalimat dalam huruf kecil: {huruf_kecil}\")  \n",
    "\n",
    "    # 5. Mengganti kata dalam string  \n",
    "    kalimat_baru = kalimat.replace(\"menyenangkan\", \"seru\")  \n",
    "    print(f\"4. Kalimat setelah penggantian: {kalimat_baru}\")  \n",
    "\n",
    "    # 6. Memisahkan string menjadi list kata  \n",
    "    daftar_kata = kalimat.split(\" \")  \n",
    "    print(f\"5. Daftar kata: {daftar_kata}\")  \n",
    "\n",
    "    # 7. Menggabungkan list kata menjadi string  \n",
    "    hasil_gabung = \" \".join(daftar_kata)  \n",
    "    print(f\"6. Menggabungkan kembali ke string: {hasil_gabung}\")  \n",
    "\n",
    "    # 8. Mengambil substring (potongan dari string)  \n",
    "    substring = kalimat[8:14]  # Mengambil dari indeks 8 sampai 14 (tidak termasuk 14)  \n",
    "    print(f\"7. Substring: '{substring}'\")  \n",
    "\n",
    "# Menjalankan fungsi  \n",
    "if __name__ == \"__main__\":  \n",
    "    string_operations()  "
   ]
  },
  {
   "cell_type": "code",
   "execution_count": 3,
   "id": "5b446a70-09ca-4a91-a495-dee8130e589d",
   "metadata": {},
   "outputs": [
    {
     "name": "stdin",
     "output_type": "stream",
     "text": [
      "Masukkan nama Anda:  Dede suryana\n"
     ]
    },
    {
     "name": "stdout",
     "output_type": "stream",
     "text": [
      "Halo, Dede suryana! Selamat datang di dunia Python.\n"
     ]
    }
   ],
   "source": [
    "# Meminta input dari pengguna  \n",
    "nama = input(\"Masukkan nama Anda: \")  \n",
    "print(\"Halo, \" + nama + \"! Selamat datang di dunia Python.\")  "
   ]
  },
  {
   "cell_type": "code",
   "execution_count": 3,
   "id": "d0727de8-80bd-4f5a-a62d-9859f72335b9",
   "metadata": {},
   "outputs": [
    {
     "name": "stdout",
     "output_type": "stream",
     "text": [
      "hello, world\n",
      "Umur saya adalah 20\n"
     ]
    }
   ],
   "source": [
    "print(\"hello, world\")\n",
    "\n",
    "#Menampilkan nilai variabel\n",
    "umur = 20\n",
    "print(\"Umur saya adalah\",umur)"
   ]
  },
  {
   "cell_type": "code",
   "execution_count": 9,
   "id": "55cca3ee-e86c-4a63-913a-ed6ee18b472f",
   "metadata": {},
   "outputs": [],
   "source": [
    "def panjang_string():  \n",
    "    # Meminta input dari pengguna  \n",
    "    user_input = input(\"Masukkan sebuah kalimat: \")  \n",
    "    \n",
    "    # Menghitung panjang string  \n",
    "    panjang = len(user_input)  \n",
    "    \n",
    "    # Menampilkan hasil  \n",
    "    print(f\"Panjang kalimat Anda: {panjang} karakter\")  \n"
   ]
  },
  {
   "cell_type": "code",
   "execution_count": null,
   "id": "a3744485-0b22-4536-97df-1aaa478c03c9",
   "metadata": {},
   "outputs": [],
   "source": []
  }
 ],
 "metadata": {
  "kernelspec": {
   "display_name": "Python 3 (ipykernel)",
   "language": "python",
   "name": "python3"
  },
  "language_info": {
   "codemirror_mode": {
    "name": "ipython",
    "version": 3
   },
   "file_extension": ".py",
   "mimetype": "text/x-python",
   "name": "python",
   "nbconvert_exporter": "python",
   "pygments_lexer": "ipython3",
   "version": "3.12.9"
  }
 },
 "nbformat": 4,
 "nbformat_minor": 5
}
