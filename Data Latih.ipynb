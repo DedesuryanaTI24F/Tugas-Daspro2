{
 "cells": [
  {
   "cell_type": "markdown",
   "id": "c6afc097-96ec-4b4c-b3a5-afd3470e48e4",
   "metadata": {},
   "source": [
    "<b>Project</b>\n",
    "Buatlah Data altih sederhana untuk klasifikasi data berdasarkan\n",
    "<ol>\n",
    "    <li>Usia : 18 - 60</li>\n",
    "    <li>Transaksi perbulan : 0-50</li>\n",
    "    <li>Label : Loyal , Tidak Loyal (1)</li>\n",
    "    <li>Gender</li>\n",
    "</ol>\n"
   ]
  },
  {
   "cell_type": "code",
   "execution_count": 7,
   "id": "0daf29b8-0e14-468f-81e2-56a0e93fd04c",
   "metadata": {},
   "outputs": [
    {
     "data": {
      "text/plain": [
       "<bound method NDFrame.head of     Usia  Transaksi  label Gender\n",
       "0     41         40      1      P\n",
       "1     39         34      0      L\n",
       "2     26         18      0      L\n",
       "3     56          3      0      L\n",
       "4     35         20      0      L\n",
       "..   ...        ...    ...    ...\n",
       "95    19         32      1      L\n",
       "96    59         18      0      P\n",
       "97    34         23      1      P\n",
       "98    29          5      0      P\n",
       "99    53         50      0      P\n",
       "\n",
       "[100 rows x 4 columns]>"
      ]
     },
     "execution_count": 7,
     "metadata": {},
     "output_type": "execute_result"
    }
   ],
   "source": [
    "import numpy as np\n",
    "import pandas as pd\n",
    "\n",
    "n_data = 100\n",
    "\n",
    "usia = np.random.randint(18,61,size=n_data)\n",
    "transaksi = np.random.randint(0,51, size=n_data)\n",
    "label = np.random.randint(0,2, size=n_data)\n",
    "gender = np.random.choice(['L','P',],size=n_data)\n",
    "\n",
    "df = pd.DataFrame({\n",
    "    'Usia' : usia,\n",
    "    'Transaksi' : transaksi,\n",
    "    'label' : label,\n",
    "    'Gender' : gender\n",
    "})\n",
    "\n",
    "df.to_csv('datalatih.csv',index=False)\n",
    "df.head #mengetahui 5 baris petama dari isi dataframe\n",
    "\n",
    " "
   ]
  },
  {
   "cell_type": "code",
   "execution_count": 5,
   "id": "748acbd2-8049-44c5-921d-d5fbd24b5baa",
   "metadata": {},
   "outputs": [
    {
     "name": "stdout",
     "output_type": "stream",
     "text": [
      "<class 'pandas.core.frame.DataFrame'>\n",
      "RangeIndex: 100 entries, 0 to 99\n",
      "Data columns (total 4 columns):\n",
      " #   Column     Non-Null Count  Dtype \n",
      "---  ------     --------------  ----- \n",
      " 0   Usia       100 non-null    int32 \n",
      " 1   Transaksi  100 non-null    int32 \n",
      " 2   label      100 non-null    int32 \n",
      " 3   Gender     100 non-null    object\n",
      "dtypes: int32(3), object(1)\n",
      "memory usage: 2.1+ KB\n"
     ]
    }
   ],
   "source": [
    "df.info()"
   ]
  },
  {
   "cell_type": "code",
   "execution_count": 6,
   "id": "f9b3c4c4-efd2-40a2-a93c-4e3e65815a32",
   "metadata": {},
   "outputs": [
    {
     "name": "stdout",
     "output_type": "stream",
     "text": [
      "     Pelayanan_1    Pelayanan_2   Pelayanan_3    Pelayanan_4    Pelayanan_5  \\\n",
      "0      Kesehatan   Layanan Umum     Perbankan  Kesejahteraan      Perbankan   \n",
      "1   Layanan Umum  Kesejahteraan  Kependudukan   Kependudukan    Perdagangan   \n",
      "2   Pemerintahan      Perbankan   Perdagangan   Kependudukan     Pendidikan   \n",
      "3      Perizinan    Perdagangan     Perbankan  Kesejahteraan   Transportasi   \n",
      "4  Kesejahteraan   Kependudukan  Transportasi   Transportasi  Kesejahteraan   \n",
      "\n",
      "     Pelayanan_6    Pelayanan_7    Pelayanan_8   Pelayanan_9   Pelayanan_10  \n",
      "0   Layanan Umum    Perdagangan   Pemerintahan     Perbankan  Kesejahteraan  \n",
      "1      Perizinan  Kesejahteraan   Pemerintahan  Transportasi      Perizinan  \n",
      "2  Kesejahteraan  Kesejahteraan  Kesejahteraan  Transportasi     Pendidikan  \n",
      "3   Kependudukan   Layanan Umum  Kesejahteraan     Perizinan     Pendidikan  \n",
      "4      Kesehatan   Layanan Umum  Kesejahteraan     Kesehatan     Pendidikan  \n"
     ]
    }
   ],
   "source": [
    "import pandas as pd\n",
    "import numpy as np\n",
    "\n",
    "# Definisikan kategori pelayanan yang ada\n",
    "kategori_pelayanan = [\n",
    "    'Kesehatan', 'Pendidikan', 'Transportasi', 'Perbankan', 'Kependudukan',\n",
    "    'Kesejahteraan', 'Pemerintahan', 'Layanan Umum', 'Perdagangan', 'Perizinan'\n",
    "]\n",
    "\n",
    "# Jumlah data\n",
    "n_data = 10000\n",
    "n_kolom = 10\n",
    "\n",
    "# Membuat data acak untuk setiap kolom\n",
    "data = {}\n",
    "for i in range(1, n_kolom + 1):\n",
    "    kolom_name = f'Pelayanan_{i}'\n",
    "    data[kolom_name] = np.random.choice(kategori_pelayanan, n_data)\n",
    "\n",
    "# Membuat DataFrame\n",
    "df = pd.DataFrame(data)\n",
    "\n",
    "# Menampilkan sedikit contoh\n",
    "print(df.head())\n",
    "\n",
    "# Jika ingin menyimpan ke file csv\n",
    "# df.to_csv('dataset_pelayanan.csv', index=False)"
   ]
  },
  {
   "cell_type": "code",
   "execution_count": null,
   "id": "7bdea7d2-aa17-4825-a601-a8bb5d35c34d",
   "metadata": {},
   "outputs": [],
   "source": []
  },
  {
   "cell_type": "code",
   "execution_count": null,
   "id": "adaaf850-bd92-47f0-a9f3-d9dfa7aa2b80",
   "metadata": {},
   "outputs": [],
   "source": []
  }
 ],
 "metadata": {
  "kernelspec": {
   "display_name": "Python 3 (ipykernel)",
   "language": "python",
   "name": "python3"
  },
  "language_info": {
   "codemirror_mode": {
    "name": "ipython",
    "version": 3
   },
   "file_extension": ".py",
   "mimetype": "text/x-python",
   "name": "python",
   "nbconvert_exporter": "python",
   "pygments_lexer": "ipython3",
   "version": "3.12.9"
  }
 },
 "nbformat": 4,
 "nbformat_minor": 5
}
