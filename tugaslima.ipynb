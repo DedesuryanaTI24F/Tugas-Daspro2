{
 "cells": [
  {
   "cell_type": "code",
   "execution_count": 21,
   "id": "55cca3ee-e86c-4a63-913a-ed6ee18b472f",
   "metadata": {},
   "outputs": [
    {
     "name": "stdin",
     "output_type": "stream",
     "text": [
      "Masukkan sebuah kalimat:  makan ayam\n"
     ]
    },
    {
     "name": "stdout",
     "output_type": "stream",
     "text": [
      "Jumlah karakter dalam kalimat: 10\n"
     ]
    }
   ],
   "source": [
    "#len\n",
    "teks = input(\"Masukkan sebuah kalimat: \")  \n",
    " \n",
    "jumlah_karakter = len(teks)  \n",
    " \n",
    "print(\"Jumlah karakter dalam kalimat:\", jumlah_karakter)  \n"
   ]
  },
  {
   "cell_type": "code",
   "execution_count": 20,
   "id": "a3744485-0b22-4536-97df-1aaa478c03c9",
   "metadata": {},
   "outputs": [
    {
     "name": "stdin",
     "output_type": "stream",
     "text": [
      "Masukkan sebuah kalimat:  jangan lupa mewing\n"
     ]
    },
    {
     "name": "stdout",
     "output_type": "stream",
     "text": [
      "Kalimat dalam huruf kapital: JANGAN LUPA MEWING\n"
     ]
    }
   ],
   "source": [
    "# upper\n",
    "teks = input(\"Masukkan sebuah kalimat: \")  \n",
    "\n",
    "# Mengubah kalimat menjadi huruf kapital  \n",
    "teks_kapital = teks.upper()  \n",
    "\n",
    "# Menampilkan hasil  \n",
    "print(\"Kalimat dalam huruf kapital:\", teks_kapital)  "
   ]
  },
  {
   "cell_type": "code",
   "execution_count": 14,
   "id": "725268ef-091f-4d56-9690-ba758f6d3d02",
   "metadata": {},
   "outputs": [
    {
     "name": "stdin",
     "output_type": "stream",
     "text": [
      "Masukkan sebuah kata:  MAKAN\n"
     ]
    },
    {
     "name": "stdout",
     "output_type": "stream",
     "text": [
      "Kata dalam huruf kecil: makan\n"
     ]
    }
   ],
   "source": [
    "# Meminta input dari pengguna  \n",
    "kata = input(\"Masukkan sebuah kata: \")  \n",
    "\n",
    "# Mengubah kata menjadi huruf kecil  \n",
    "kata_kecil = kata.lower()  \n",
    "\n",
    "# Menampilkan hasil  \n",
    "print(\"Kata dalam huruf kecil:\", kata_kecil)  "
   ]
  },
  {
   "cell_type": "code",
   "execution_count": 16,
   "id": "acac6743-b9df-4d2b-930a-b88f38de5fc9",
   "metadata": {},
   "outputs": [
    {
     "name": "stdin",
     "output_type": "stream",
     "text": [
      "Masukkan sebuah kalimat:  makanan lama\n"
     ]
    },
    {
     "name": "stdout",
     "output_type": "stream",
     "text": [
      "Kalimat setelah diganti: makanan baru\n"
     ]
    }
   ],
   "source": [
    "# Meminta input dari pengguna  \n",
    "kalimat = input(\"Masukkan sebuah kalimat: \")  \n",
    "\n",
    "# Mengganti kata tertentu dalam kalimat  \n",
    "kalimat_baru = kalimat.replace(\"lama\", \"baru\")  \n",
    "\n",
    "# Menampilkan hasil  \n",
    "print(\"Kalimat setelah diganti:\", kalimat_baru)  "
   ]
  },
  {
   "cell_type": "code",
   "execution_count": 17,
   "id": "c5cc7912-0ea3-4bd8-9e79-561d6f6482c8",
   "metadata": {},
   "outputs": [
    {
     "name": "stdin",
     "output_type": "stream",
     "text": [
      "Masukkan sebuah kalimat:  saya kamu dia aku\n"
     ]
    },
    {
     "name": "stdout",
     "output_type": "stream",
     "text": [
      "Daftar kata: ['saya', 'kamu', 'dia', 'aku']\n"
     ]
    }
   ],
   "source": [
    "# Meminta input dari pengguna  \n",
    "kalimat = input(\"Masukkan sebuah kalimat: \")  \n",
    "\n",
    "# Membagi kalimat menjadi daftar kata  \n",
    "daftar_kata = kalimat.split()  \n",
    "\n",
    "# Menampilkan hasil  \n",
    "print(\"Daftar kata:\", daftar_kata)  "
   ]
  },
  {
   "cell_type": "code",
   "execution_count": 18,
   "id": "1ac01733-fbb5-4a9e-a45a-d1f4f45c52f3",
   "metadata": {},
   "outputs": [
    {
     "name": "stdin",
     "output_type": "stream",
     "text": [
      "Masukkan daftar kata (pisahkan dengan koma):  kata,makan,minum,\n"
     ]
    },
    {
     "name": "stdout",
     "output_type": "stream",
     "text": [
      "Kalimat yang digabungkan: kata makan minum \n"
     ]
    }
   ],
   "source": [
    "# Meminta input dari pengguna  \n",
    "daftar_kata = input(\"Masukkan daftar kata (pisahkan dengan koma): \")  \n",
    "\n",
    "# Mengubah string menjadi daftar menggunakan split  \n",
    "daftar_kata = daftar_kata.split(\",\")  \n",
    "\n",
    "# Menghapus spasi di sekitar setiap kata  \n",
    "daftar_kata = [kata.strip() for kata in daftar_kata]  \n",
    "\n",
    "# Menggabungkan daftar kata menjadi satu string dengan pemisah spasi  \n",
    "kalimat_gabungan = \" \".join(daftar_kata)  \n",
    "\n",
    "# Menampilkan hasil  \n",
    "print(\"Kalimat yang digabungkan:\", kalimat_gabungan)  "
   ]
  },
  {
   "cell_type": "code",
   "execution_count": 19,
   "id": "608dff1e-d0c8-4df4-97a3-601cbe459879",
   "metadata": {},
   "outputs": [
    {
     "name": "stdin",
     "output_type": "stream",
     "text": [
      "Masukkan sebuah kalimat:  selamat meyambut bulan ramadan\n"
     ]
    },
    {
     "name": "stdout",
     "output_type": "stream",
     "text": [
      "Substring yang diambil: selam\n"
     ]
    }
   ],
   "source": [
    "# Meminta input dari pengguna  \n",
    "teks = input(\"Masukkan sebuah kalimat: \")  \n",
    "\n",
    "# Mengambil substring dari kalimat mulai dari indeks 0 hingga 5  \n",
    "substring = teks[0:5]  \n",
    "\n",
    "# Menampilkan hasil  \n",
    "print(\"Substring yang diambil:\", substring)  "
   ]
  },
  {
   "cell_type": "code",
   "execution_count": null,
   "id": "db5d01c5-15f8-411e-ab81-207bf8116551",
   "metadata": {},
   "outputs": [],
   "source": []
  }
 ],
 "metadata": {
  "kernelspec": {
   "display_name": "Python 3 (ipykernel)",
   "language": "python",
   "name": "python3"
  },
  "language_info": {
   "codemirror_mode": {
    "name": "ipython",
    "version": 3
   },
   "file_extension": ".py",
   "mimetype": "text/x-python",
   "name": "python",
   "nbconvert_exporter": "python",
   "pygments_lexer": "ipython3",
   "version": "3.12.9"
  }
 },
 "nbformat": 4,
 "nbformat_minor": 5
}
