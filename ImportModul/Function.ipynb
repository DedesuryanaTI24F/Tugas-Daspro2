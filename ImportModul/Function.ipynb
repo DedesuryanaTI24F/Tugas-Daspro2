{
 "cells": [
  {
   "cell_type": "code",
   "execution_count": null,
   "id": "a3ba8bfe-b49f-4679-a139-0f94bf67c7f5",
   "metadata": {},
   "outputs": [],
   "source": []
  },
  {
   "cell_type": "code",
   "execution_count": 55,
   "id": "b865adba-1ddc-469b-b427-dbb1a90068c0",
   "metadata": {},
   "outputs": [
    {
     "name": "stdout",
     "output_type": "stream",
     "text": [
      "Hallo, Apa Kabar\n"
     ]
    }
   ],
   "source": [
    "#Fungsi tanpa parameter\n",
    "def greeting():\n",
    "    print(\"Hallo, Apa Kabar\")\n",
    "greeting()"
   ]
  },
  {
   "cell_type": "code",
   "execution_count": 54,
   "id": "4ad71119-37fe-484b-ba9e-9502cde8eaa9",
   "metadata": {},
   "outputs": [
    {
     "name": "stdout",
     "output_type": "stream",
     "text": [
      "Sekarang tanggal:2025-05-27\n",
      "Sekarang weekday\n"
     ]
    }
   ],
   "source": [
    "import datetime\n",
    "def showDate():\n",
    "    today = datetime.date.today()\n",
    "    print(f\"Sekarang tanggal:{today}\")\n",
    "def isWeekend():\n",
    "    today = datetime.date.today().weekday()\n",
    "    if today <5:\n",
    "        print(\"Sekarang weekday\")\n",
    "    else:\n",
    "        print(\"Sekarang weekend\")\n",
    "\n",
    "showDate()\n",
    "isWeekend()\n",
    "    "
   ]
  },
  {
   "cell_type": "code",
   "execution_count": 53,
   "id": "474dd38b-c376-43a9-9100-5edddf4d673d",
   "metadata": {},
   "outputs": [
    {
     "name": "stdout",
     "output_type": "stream",
     "text": [
      "Andi Fahmi Robi\n",
      "Andi Fahmi Robi,S.Kom\n"
     ]
    }
   ],
   "source": [
    "#Fungsi dengan parameter tidak ada return value\n",
    "def getFullName(first,middle,last):\n",
    "    print(f\"{first} {middle} {last}\")\n",
    "\n",
    "def getName(first,middle,last):\n",
    "    return f\"{first} {middle} {last}\"\n",
    "    \n",
    "getFullName (\"Andi\",\"Fahmi\",\"Robi\")\n",
    "myname = getName (\"Andi\",\"Fahmi\",\"Robi\")\n",
    "title = \"S.Kom\"\n",
    "print (f\"{myname},{title}\")"
   ]
  },
  {
   "cell_type": "code",
   "execution_count": 52,
   "id": "d276aa92-ef75-4fe3-9ce3-49ec497a8808",
   "metadata": {},
   "outputs": [
    {
     "name": "stdout",
     "output_type": "stream",
     "text": [
      "Hasil Penjumlahan 5 dan 6 = 11\n",
      "Hasil Perkalian 10 dan 3 = 30\n",
      "Hasil Penjumlahan 11 dan 30 = 41\n"
     ]
    }
   ],
   "source": [
    "#Fungsi Aritmatika\n",
    "def add(num1,num2):\n",
    "    return num1+num2\n",
    "\n",
    "def multiply (num1,num2):\n",
    "    return num1*num2\n",
    "\n",
    "r1= add(5,6)\n",
    "r2=multiply(10,3)\n",
    "r3= add(r1,r2)\n",
    "\n",
    "print(f\"Hasil Penjumlahan 5 dan 6 = {r1}\")\n",
    "print(f\"Hasil Perkalian 10 dan 3 = {r2}\")\n",
    "print(f\"Hasil Penjumlahan {r1} dan {r2} = {r3}\")\n",
    "\n"
   ]
  },
  {
   "cell_type": "code",
   "execution_count": 51,
   "id": "a97dc309-03d9-4b3f-a580-0298348e1709",
   "metadata": {},
   "outputs": [
    {
     "name": "stdout",
     "output_type": "stream",
     "text": [
      "Hasil penjumlahan :11\n",
      "Hasil perkalian :30\n"
     ]
    }
   ],
   "source": [
    "#Fungsi dengan return lebih dari 1\n",
    "def arithmatic(num1,num2):\n",
    "    add = num1 + num2\n",
    "    multiply = num1 * num2\n",
    "    return add, multiply\n",
    "\n",
    "tambah,kali = arithmatic(5,6)\n",
    "print (f\"Hasil penjumlahan :{tambah}\")\n",
    "print(f\"Hasil perkalian :{kali}\")"
   ]
  },
  {
   "cell_type": "code",
   "execution_count": 50,
   "id": "f487a606-96b7-4bb9-9d0c-80e242b04367",
   "metadata": {},
   "outputs": [
    {
     "name": "stdout",
     "output_type": "stream",
     "text": [
      "Registration is Succesfull\n",
      "Username:dsur\n",
      "Password:12345678\n",
      "Email:dsur@gmail.com\n",
      "Status:Aktif\n",
      "\n"
     ]
    }
   ],
   "source": [
    "#Fungsi dengan nilai default\n",
    "def userRegistration(email,username,password,status=\"Aktif\"):\n",
    "    result = \"\"\n",
    "    if(len(username)>3):\n",
    "        if(len(password)>5):\n",
    "            result += f\"Registration is Succesfull\\n\"\n",
    "            result += f\"Username:{username}\\n\"\n",
    "            result += f\"Password:{password}\\n\" \n",
    "            result += f\"Email:{email}\\n\"\n",
    "            result += f\"Status:{status}\\n\"\n",
    "            return result\n",
    "        else:\n",
    "            return \"Registration failed (Username must be more than 5)\"\n",
    "    else:\n",
    "        return \"Registration failed (Username must be more than 3)\"\n",
    "print(userRegistration(\"dsur@gmail.com\",\"dsur\",\"12345678\"))\n",
    "        "
   ]
  },
  {
   "cell_type": "code",
   "execution_count": 49,
   "id": "6dede8e1-d234-4c54-8f00-bea9f6970aa3",
   "metadata": {},
   "outputs": [
    {
     "name": "stdout",
     "output_type": "stream",
     "text": [
      "Registeration is successfull\n",
      "Username:dsuuir\n",
      "password:54309096\n",
      "Email:dsur@gmail\n",
      "Status:aktif\n"
     ]
    }
   ],
   "source": [
    "#fungsi dengan nilai default\n",
    "def checkPassword(password):\n",
    "    result = \"\"\n",
    "    if(len(password)<=5):\n",
    "        result = \"Registeration failed(password must be more than 5)\\n\"\n",
    "    return result\n",
    "\n",
    "def checkUsername(username):\n",
    "    result = \"\"\n",
    "    if(len(username)<=4):\n",
    "        result = \"Registeration failed(Username must be more than 3)\\n\"\n",
    "    return result\n",
    "    \n",
    "def userRegisteration(email,username,password,status=\"Belum aktif\"):\n",
    "    user = checkUsername(username)\n",
    "    pwd = checkPassword(password)\n",
    "    result = \"\"\n",
    "    if(len(user) > 0):\n",
    "        result += user\n",
    "        \n",
    "    if(len(pwd) > 0):\n",
    "        result +=pwd\n",
    "        \n",
    "    if(len(result)==0):\n",
    "            result += f\"Registeration is successfull\\n\"\n",
    "            result += f\"Username:{username}\\n\"\n",
    "            result += f\"password:{password}\\n\"\n",
    "            result += f\"Email:{email}\\n\"\n",
    "            result += f\"Status:{status}\"\n",
    "    return  result       \n",
    "print(userRegisteration(\"dsur@gmail\",\"dsuuir\",\"54309096\",\"aktif\"))"
   ]
  },
  {
   "cell_type": "code",
   "execution_count": 59,
   "id": "13e876fb-5cc3-4db1-8ed7-85141f2d5a18",
   "metadata": {},
   "outputs": [
    {
     "name": "stdin",
     "output_type": "stream",
     "text": [
      "Angka1: 12\n",
      "Angka2: 2\n"
     ]
    },
    {
     "name": "stdout",
     "output_type": "stream",
     "text": [
      "14\n",
      "24\n",
      "144\n"
     ]
    }
   ],
   "source": [
    "import Aritmatika.math as math\n",
    "angka1 = int(input(\"Angka1:\"))\n",
    "angka2 = int(input(\"Angka2:\"))\n",
    "\n",
    "r1 = math.add(angka1,angka2)\n",
    "r2 = math.multiply(angka1,angka2)\n",
    "r3 = math.pow(angka1,angka2)\n",
    "print(r1)\n",
    "print(r2)\n",
    "print(r3)"
   ]
  },
  {
   "cell_type": "code",
   "execution_count": 60,
   "id": "e365c1e9-3504-4f76-acd3-3e76f8006578",
   "metadata": {},
   "outputs": [
    {
     "name": "stdin",
     "output_type": "stream",
     "text": [
      "Isikan panjang: 10\n"
     ]
    },
    {
     "name": "stdout",
     "output_type": "stream",
     "text": [
      "Panjang dalam cm:10\n",
      "Panjang dalam meter:0.1\n"
     ]
    }
   ],
   "source": [
    "from Konversi.convert import cmToMeter as cToM\n",
    "\n",
    "angka = int(input(\"Isikan panjang:\"))\n",
    "r1 = cToM(angka)\n",
    "print(f\"Panjang dalam cm:{angka}\")\n",
    "print(f\"Panjang dalam meter:{r1}\")"
   ]
  },
  {
   "cell_type": "code",
   "execution_count": 67,
   "id": "9727e8bb-7c43-4d2d-bc6e-dde99ed16c4a",
   "metadata": {},
   "outputs": [
    {
     "name": "stdin",
     "output_type": "stream",
     "text": [
      "Isikan panjang dalam  (Meter): 54\n",
      "Isikan panjang dalam (cm): 67\n"
     ]
    },
    {
     "name": "stdout",
     "output_type": "stream",
     "text": [
      "Panjang dalam cm:0.54\n",
      "Panjang dalam meter:0.67\n"
     ]
    }
   ],
   "source": [
    "from Konversi.convert import cmToMeter as meterToCm\n",
    "\n",
    "meter = int(input(\"Isikan panjang dalam  (Meter):\"))\n",
    "cm = int(input(\"Isikan panjang dalam (cm):\"))\n",
    "\n",
    "r1 = meterToCm(meter)\n",
    "r2 = cmToMeter(cm)\n",
    "print(f\"Panjang dalam cm:{r1}\")\n",
    "print(f\"Panjang dalam meter:{r2}\")"
   ]
  },
  {
   "cell_type": "code",
   "execution_count": null,
   "id": "4376a044-0eb9-4e33-bab8-d14c0f0b89a6",
   "metadata": {},
   "outputs": [],
   "source": []
  }
 ],
 "metadata": {
  "kernelspec": {
   "display_name": "Python 3 (ipykernel)",
   "language": "python",
   "name": "python3"
  },
  "language_info": {
   "codemirror_mode": {
    "name": "ipython",
    "version": 3
   },
   "file_extension": ".py",
   "mimetype": "text/x-python",
   "name": "python",
   "nbconvert_exporter": "python",
   "pygments_lexer": "ipython3",
   "version": "3.12.9"
  }
 },
 "nbformat": 4,
 "nbformat_minor": 5
}
